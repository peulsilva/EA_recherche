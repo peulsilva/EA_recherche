{
 "cells": [
  {
   "cell_type": "code",
   "execution_count": 5,
   "metadata": {},
   "outputs": [],
   "source": [
    "import numpy as np\n",
    "import seaborn as sns"
   ]
  },
  {
   "cell_type": "code",
   "execution_count": 2,
   "metadata": {},
   "outputs": [],
   "source": [
    "\n",
    "\n",
    "def price_american_put_binomial(S0, K, r, sigma, T, M):\n",
    "    \"\"\"\n",
    "    Price an American put option using the binomial tree model.\n",
    "\n",
    "    Parameters:\n",
    "    - S0: Initial stock price\n",
    "    - K: Strike price\n",
    "    - r: Risk-free interest rate\n",
    "    - sigma: Volatility of the underlying asset\n",
    "    - T: Time to maturity\n",
    "    - M: Number of time steps\n",
    "\n",
    "    Returns:\n",
    "    - Estimated option price\n",
    "    \"\"\"\n",
    "    dt = T / M\n",
    "    u = np.exp(sigma * np.sqrt(dt))  # Up factor\n",
    "    d = 1 / u                        # Down factor\n",
    "    p = (np.exp(r * dt) - d) / (u - d)  # Risk-neutral probability\n",
    "    discount = np.exp(-r * dt)          # Discount factor\n",
    "\n",
    "    # Initialize asset prices at maturity\n",
    "    asset_prices = np.zeros(M + 1)\n",
    "    for i in range(M + 1):\n",
    "        asset_prices[i] = S0 * (u ** i) * (d ** (M - i))\n",
    "\n",
    "    # Initialize option values at maturity (put payoff)\n",
    "    option_values = np.maximum(K - asset_prices, 0)\n",
    "\n",
    "    # Work backward through the tree\n",
    "    for t in range(M - 1, -1, -1):\n",
    "        for i in range(t + 1):\n",
    "            asset_prices[i] = S0 * (u ** i) * (d ** (t - i))\n",
    "            continuation_value = discount * (p * option_values[i + 1] + (1 - p) * option_values[i])\n",
    "            exercise_value = K - asset_prices[i]\n",
    "            option_values[i] = max(exercise_value, continuation_value)  # American option can be exercised early\n",
    "    \n",
    "    return option_values[0]\n",
    "\n"
   ]
  },
  {
   "cell_type": "code",
   "execution_count": null,
   "metadata": {},
   "outputs": [],
   "source": []
  },
  {
   "cell_type": "code",
   "execution_count": 13,
   "metadata": {},
   "outputs": [
    {
     "name": "stdout",
     "output_type": "stream",
     "text": [
      "Estimated American put option price (Binomial Tree): 2.3165\n"
     ]
    }
   ],
   "source": [
    "\n",
    "# Parameters\n",
    "S0 = 40       # Initial stock price\n",
    "K = 40        # Strike price\n",
    "r = 0.06      # Risk-free interest rate\n",
    "sigma = 0.2   # Volatility\n",
    "T = 1.0       # Time to maturity\n",
    "M = 100       # Number of time steps\n",
    "\n",
    "# Calculate option price\n",
    "\n",
    "option_price = price_american_put_binomial(S0, K, r, sigma, T, M)\n",
    "print(f\"Estimated American put option price (Binomial Tree): {option_price:.4f}\")"
   ]
  },
  {
   "cell_type": "code",
   "execution_count": null,
   "metadata": {},
   "outputs": [],
   "source": [
    "dt = T / M\n",
    "u = np.exp(sigma * np.sqrt(dt))  # Up factor\n",
    "d = 1 / u                        # Down factor\n",
    "p = (np.exp(r * dt) - d) / (u - d)  # Risk-neutral probability\n",
    "discount = np.exp(-r * dt)          # Discount factor\n",
    "\n",
    "# Initialize asset prices at maturity\n",
    "asset_prices = np.zeros(M + 1)\n",
    "for i in range(M + 1):\n",
    "    asset_prices[i] = S0 * (u ** i) * (d ** (M - i))\n",
    "\n",
    "# Initialize option values at maturity (put payoff)\n",
    "option_values = np.maximum(K - asset_prices, 0)\n",
    "\n",
    "# Work backward through the tree\n",
    "for t in range(M - 1, -1, -1):\n",
    "    for i in range(t + 1):\n",
    "        asset_prices[i] = S0 * (u ** i) * (d ** (t - i))\n",
    "        continuation_value = discount * (p * option_values[i + 1] + (1 - p) * option_values[i])\n",
    "        exercise_value = K - asset_prices[i]\n",
    "        option_values[i] = max(exercise_value, continuation_value)  # American option can be exercised early\n",
    "    "
   ]
  }
 ],
 "metadata": {
  "kernelspec": {
   "display_name": "base",
   "language": "python",
   "name": "python3"
  },
  "language_info": {
   "codemirror_mode": {
    "name": "ipython",
    "version": 3
   },
   "file_extension": ".py",
   "mimetype": "text/x-python",
   "name": "python",
   "nbconvert_exporter": "python",
   "pygments_lexer": "ipython3",
   "version": "3.10.9"
  }
 },
 "nbformat": 4,
 "nbformat_minor": 2
}
