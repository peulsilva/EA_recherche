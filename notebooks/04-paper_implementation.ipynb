{
 "cells": [
  {
   "cell_type": "code",
   "execution_count": 2,
   "metadata": {},
   "outputs": [],
   "source": [
    "%load_ext autoreload\n",
    "%autoreload 2\n"
   ]
  },
  {
   "cell_type": "code",
   "execution_count": 3,
   "metadata": {},
   "outputs": [],
   "source": [
    "import os\n",
    "while 'notebooks' in os.getcwd():\n",
    "    os.chdir('..')\n",
    "import numpy as np\n",
    "from numba import njit\n",
    "import matplotlib.pyplot as plt\n",
    "from tqdm import tqdm\n",
    "from src.stochastic_vol_tree import StochasticVolTree"
   ]
  },
  {
   "cell_type": "markdown",
   "metadata": {},
   "source": [
    "## Defining parameters"
   ]
  },
  {
   "cell_type": "markdown",
   "metadata": {},
   "source": [
    "## Stochastic volatility trees "
   ]
  },
  {
   "cell_type": "markdown",
   "metadata": {},
   "source": [
    "\n",
    "$$\n",
    "V^{(n)} := \\max_{\\tau \\in \\mathcal{T}_n} \\mathbb{E}^{(n)} \\left( e^{-r \\tau h} \\left( K - S_0 e^{\\hat{X}_\\tau^{(n)}} \\right)^+ \\right)\n",
    "$$\n",
    "\n"
   ]
  },
  {
   "cell_type": "markdown",
   "metadata": {},
   "source": [
    "\n",
    "We describe a dynamical programming algorithm for the calculation of $V^{(n)}$. Observe that for a given $k \\in \\{0, \\dots, n\\}$, the random variables $X_k^{(n)}$ and $Y_k^{(n)}$ take values on the grid:\n",
    "\n",
    "$$\n",
    "x_0 + (2l - k) \\sqrt{\\eta h}, \\quad 0 \\leq l \\leq k,\n",
    "$$\n",
    "\n",
    "and\n",
    "\n",
    "$$\n",
    "y_0 + (2m - k) \\sqrt{\\eta (1 - \\rho^2) h}, \\quad 0 \\leq m \\leq k,\n",
    "$$\n",
    "\n",
    "respectively. For nonnegative integers $m, l \\leq k \\leq n$ and $\\xi_X, \\xi_Y \\in \\{-1, +1\\}$, let\n",
    "\n",
    "$$\n",
    "V_k^{(n)}(l, m, \\xi_X, \\xi_Y)\n",
    "$$\n",
    "\n",
    "be the value of the option at time $k$.\n",
    "\n",
    "We continue by rewriting the dynamic programming equation in an algorithmic manner. In view of (3.11)–(3.13), for any $1 \\leq k \\leq n$ and $0 \\leq l, m \\leq k - 1$, we define:\n",
    "\n",
    "$$\n",
    "\\mathcal{X}_k := x_0 + (2l - k) \\sqrt{\\eta h},\n",
    "$$\n",
    "\n",
    "$$\n",
    "\\mathcal{Y}_k := y_0 + (2m - k) \\sqrt{\\eta (1 - \\rho^2) h},\n",
    "$$\n",
    "\n",
    "where both of the above are functions of $(l, m)$, but this dependence is suppressed in the notation. Similarly, we define two probabilities:\n",
    "\n",
    "$$\n",
    "p_k(l, m, \\xi_X, \\xi_Y) := \\frac{\\exp(rh + \\sqrt{\\eta h} \\Psi_k l - \\xi_X) - \\exp(-\\sqrt{\\eta h} \\Psi_k)}{\\exp(\\sqrt{\\eta h} \\Psi_k) - \\exp(-\\sqrt{\\eta h} \\Psi_k)},\n",
    "$$\n",
    "\n",
    "$$\n",
    "q_k(l, m, \\xi_X, \\xi_Y) := \\left( \\min \\left\\{ 1, \\frac{1}{2} + \\frac{\\alpha_{k-1}(l - \\xi_X, m - \\xi_Y)\\xi_Y}{2 \\Psi_k} + \\frac{\\sqrt{h} \\mu_{y,k}}{2\\sqrt{\\eta (1 - \\rho^2)} \\Psi_k} \\right\\} \\right)^+,\n",
    "$$\n",
    "\n",
    "where $\\alpha_0^{(n)} \\equiv 0$ and\n",
    "\n",
    "$$\n",
    "\\alpha_k(l, m) := \\frac{\\max(A_n, \\sigma^2(\\mathcal{X}_{k-1}, \\mathcal{Y}_{k-1})) - 1}{2},\n",
    "$$\n",
    "\n",
    "$$\n",
    "\\Psi_k := 1 + \\alpha_k^{(n)}(l, m),\n",
    "$$\n",
    "\n",
    "$$\n",
    "\\mu_{y,k} := \\mu_y(\\mathcal{X}_{k-1}, \\mathcal{Y}_{k-1}).\n",
    "$$\n",
    "\n",
    "\n",
    "We are now ready to restate the dynamic programming equation (5.1). Indeed, $V_k^{(n)}(l, m, \\xi_X, \\xi_Y)$ is the unique solution of the following recursive relations:\n",
    "\n",
    "$$\n",
    "V_n^{(n)}(l, m, \\xi_X, \\xi_Y) = \\left( K - \\exp \\left( X_n + \\sqrt{\\eta h} \\alpha_n \\xi_X \\right) \\right)^+,\n",
    "$$\n",
    "\n",
    "and for $1 \\leq k \\leq n$,\n",
    "\n",
    "$$\n",
    "V_{k-1}^{(n)}(l, m, \\xi_X, \\xi_Y) = \\max \\left\\{ \\left( K - \\exp \\left( X_{k-1} + \\sqrt{\\eta h} \\alpha_{k-1} \\xi_X \\right) \\right)^+, \\mathcal{E}(V_k^{(n)}) \\right\\},\n",
    "$$\n",
    "\n",
    "where $ \\mathcal{E}(V_k^{(n)})$\n",
    "\n",
    "is given by\n",
    "\n",
    "$$\n",
    "\\mathcal{E}(V_k^{(n)}) = \\mathbb{E}^{(n)} \\left[ V_k^{(n)}(\\Xi_k) \\big| \\Xi_{k-1} = F_{k-1}(l, m, \\xi_X, \\xi_Y) \\right]\n",
    "$$\n",
    "\n",
    "and can be written as:\n",
    "\n",
    "$$\n",
    "\\mathcal{E}(V_k^{(n)}) = \\frac{1}{4} \\sum_{i, j = 0}^1 \\mathbb{P}_k^{(n)}(\\xi_k^X = 2i - 1, \\xi_k^Y = 2j - 1) V_k^{(n)}(l + i, m + j, 2i - 1, 2j - 1)\n",
    "$$\n",
    "\n"
   ]
  },
  {
   "cell_type": "markdown",
   "metadata": {},
   "source": [
    "## First calculation \n",
    "\n",
    "$$ \n",
    "K = 10, r = 0.1, \\eta = 0.9, \\kappa = 5.0, \\theta = 0.16, \\rho = 0.1, T = 0.25, \\nu_0 = 0.25^2\n",
    "$$ "
   ]
  },
  {
   "cell_type": "code",
   "execution_count": 13,
   "metadata": {},
   "outputs": [],
   "source": [
    "kappa = 5.0\n",
    "K = 10\n",
    "r = 0.1\n",
    "eta = 0.9\n",
    "theta = 0.16\n",
    "rho = 0.1\n",
    "T = 0.25\n",
    "v0 = 0.25**2\n",
    "S0 = 10\n",
    "N = 150\n",
    "\n",
    "params = {\n",
    "    'kappa': kappa,\n",
    "    'K': K,\n",
    "    'r': r,\n",
    "    'eta': eta ,\n",
    "    'theta': theta,\n",
    "    'rho': rho,\n",
    "    'T' : T,\n",
    "    'v0' : v0,\n",
    "    'S0' : S0,\n",
    "    'N': N\n",
    "}\n",
    "\n",
    "params['h'] = params['T']/params['N']\n",
    "params['x0'] = np.log(params['S0'])\n",
    "params['y0'] = params['v0']/params['eta'] - params['rho'] * params['x0']\n",
    "params['A'] = (params['kappa']*params['theta']/params['eta'] - np.abs(params['rho'])*params['r'])*np.sqrt(params['h']/(params['eta']*(1-params['rho']**2)))"
   ]
  },
  {
   "cell_type": "code",
   "execution_count": 14,
   "metadata": {},
   "outputs": [],
   "source": [
    "stoch_vol_tree = StochasticVolTree()\n",
    "option_prices = {}"
   ]
  },
  {
   "cell_type": "code",
   "execution_count": 16,
   "metadata": {},
   "outputs": [
    {
     "name": "stderr",
     "output_type": "stream",
     "text": [
      "100%|██████████| 51/51 [3:18:56<00:00, 234.05s/it]  \n"
     ]
    }
   ],
   "source": [
    "option_prices[S0] = []\n",
    "for i in tqdm(range(1, N+3,3)):\n",
    "    params['N'] = i\n",
    "    option_price = stoch_vol_tree(**params)\n",
    "\n",
    "    option_prices[S0].append(option_price)\n",
    "    "
   ]
  },
  {
   "cell_type": "code",
   "execution_count": 17,
   "metadata": {},
   "outputs": [
    {
     "data": {
      "text/plain": [
       "<matplotlib.legend.Legend at 0x7fa07cafe770>"
      ]
     },
     "execution_count": 17,
     "metadata": {},
     "output_type": "execute_result"
    },
    {
     "data": {
      "image/png": "[encoded data removed]",
      "text/plain": [
       "<Figure size 640x480 with 1 Axes>"
      ]
     },
     "metadata": {},
     "output_type": "display_data"
    }
   ],
   "source": [
    "Ns = np.arange(1, N+3, 3)\n",
    "plt.plot(Ns, option_prices[S0])\n",
    "plt.hlines(0.52,Ns[0], Ns[-1], linestyles='dashed', colors='red', label='Reference value')\n",
    "plt.xlabel('N')\n",
    "plt.ylabel(\"Value of american put\")\n",
    "plt.title(\"Value of american put with strike $K$ = 10, $S_0 = 10$\")\n",
    "plt.legend()"
   ]
  },
  {
   "cell_type": "markdown",
   "metadata": {},
   "source": [
    "$$ S_0  = 9$$"
   ]
  },
  {
   "cell_type": "code",
   "execution_count": 6,
   "metadata": {},
   "outputs": [],
   "source": [
    "kappa = 5.0\n",
    "K = 10\n",
    "r = 0.1\n",
    "eta = 0.9\n",
    "theta = 0.16\n",
    "rho = 0.1\n",
    "T = 0.25\n",
    "v0 = 0.25**2\n",
    "S0 = 9\n",
    "N = 70\n",
    "\n",
    "params = {\n",
    "    'kappa': kappa,\n",
    "    'K': K,\n",
    "    'r': r,\n",
    "    'eta': eta ,\n",
    "    'theta': theta,\n",
    "    'rho': rho,\n",
    "    'T' : T,\n",
    "    'v0' : v0,\n",
    "    'S0' : S0,\n",
    "    'N': N\n",
    "}\n",
    "\n",
    "params['h'] = params['T']/params['N']\n",
    "params['x0'] = np.log(params['S0'])\n",
    "params['y0'] = params['v0']/params['eta'] - params['rho'] * params['x0']\n",
    "params['A'] = (params['kappa']*params['theta']/params['eta'] - np.abs(params['rho'])*params['r'])*np.sqrt(params['h']/(params['eta']*(1-params['rho']**2)))"
   ]
  },
  {
   "cell_type": "code",
   "execution_count": 8,
   "metadata": {},
   "outputs": [
    {
     "name": "stderr",
     "output_type": "stream",
     "text": [
      "100%|██████████| 24/24 [09:49<00:00, 24.56s/it]\n"
     ]
    }
   ],
   "source": [
    "option_prices[S0] = []\n",
    "for i in tqdm(range(1, N+3,3)):\n",
    "    memo = {}\n",
    "    params['N'] = i\n",
    "    option_price = stoch_vol_tree(**params)\n",
    "\n",
    "    option_prices[S0].append(option_price)\n",
    "    "
   ]
  },
  {
   "cell_type": "code",
   "execution_count": 12,
   "metadata": {},
   "outputs": [
    {
     "data": {
      "text/plain": [
       "<matplotlib.legend.Legend at 0x7fa073f8bb20>"
      ]
     },
     "execution_count": 12,
     "metadata": {},
     "output_type": "execute_result"
    },
    {
     "data": {
      "image/png": "[encoded data removed]",
      "text/plain": [
       "<Figure size 640x480 with 1 Axes>"
      ]
     },
     "metadata": {},
     "output_type": "display_data"
    }
   ],
   "source": [
    "Ns = np.arange(1, N+3, 3)\n",
    "plt.plot(Ns, option_prices[S0])\n",
    "plt.hlines(1.1076 ,Ns[0], Ns[-1], linestyles='dashed', colors='red', label='Reference value')\n",
    "plt.xlabel('N')\n",
    "plt.ylabel(\"Value of american put\")\n",
    "plt.title(\"Value of american put with strike $K$ = 10, $S_0 = 9$\")\n",
    "plt.legend()"
   ]
  },
  {
   "cell_type": "code",
   "execution_count": null,
   "metadata": {},
   "outputs": [],
   "source": [
    "kappa = 5.0\n",
    "K = 10\n",
    "r = 0.1\n",
    "eta = 0.9\n",
    "theta = 0.16\n",
    "rho = 0.1\n",
    "T = 0.25\n",
    "v0 = 0.25**2\n",
    "S0 = 9\n",
    "N = 70\n",
    "\n",
    "params = {\n",
    "    'kappa': kappa,\n",
    "    'K': K,\n",
    "    'r': r,\n",
    "    'eta': eta ,\n",
    "    'theta': theta,\n",
    "    'rho': rho,\n",
    "    'T' : T,\n",
    "    'v0' : v0,\n",
    "    'S0' : S0,\n",
    "    'N': N\n",
    "}\n",
    "\n",
    "params['h'] = params['T']/params['N']\n",
    "params['x0'] = np.log(params['S0'])\n",
    "params['y0'] = params['v0']/params['eta'] - params['rho'] * params['x0']\n",
    "params['A'] = (params['kappa']*params['theta']/params['eta'] - np.abs(params['rho'])*params['r'])*np.sqrt(params['h']/(params['eta']*(1-params['rho']**2)))\n",
    "option_prices[S0] = []\n",
    "for i in tqdm(range(1, N+3,3)):\n",
    "    memo = {}\n",
    "    params['N'] = i\n",
    "    option_price = stoch_vol_tree(**params)\n",
    "\n",
    "    option_prices[S0].append(option_price)\n",
    "    \n",
    "Ns = np.arange(1, N+3, 3)\n",
    "plt.plot(Ns, option_prices[S0])\n",
    "plt.hlines(1.1076 ,Ns[0], Ns[-1], linestyles='dashed', colors='red', label='Reference value')\n",
    "plt.xlabel('N')\n",
    "plt.ylabel(\"Value of american put\")\n",
    "plt.title(\"Value of american put with strike $K$ = 10, $S_0 = 9$\")\n",
    "plt.legend()"
   ]
  }
 ],
 "metadata": {
  "kernelspec": {
   "display_name": "base",
   "language": "python",
   "name": "python3"
  },
  "language_info": {
   "codemirror_mode": {
    "name": "ipython",
    "version": 3
   },
   "file_extension": ".py",
   "mimetype": "text/x-python",
   "name": "python",
   "nbconvert_exporter": "python",
   "pygments_lexer": "ipython3",
   "version": "3.10.9"
  }
 },
 "nbformat": 4,
 "nbformat_minor": 2
}
