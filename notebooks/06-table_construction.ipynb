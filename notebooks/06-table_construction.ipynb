{
 "cells": [
  {
   "cell_type": "markdown",
   "metadata": {},
   "source": [
    "## Obtaining results"
   ]
  },
  {
   "cell_type": "code",
   "execution_count": 1,
   "metadata": {},
   "outputs": [],
   "source": [
    "%load_ext autoreload\n",
    "%autoreload 2"
   ]
  },
  {
   "cell_type": "code",
   "execution_count": 25,
   "metadata": {},
   "outputs": [],
   "source": [
    "import os \n",
    "while 'notebooks' in os.getcwd():\n",
    "    os.chdir('..')\n",
    "\n",
    "import numpy as np\n",
    "from src.simulations import PathSimulator\n",
    "from src.simulation_based_tree import SimulationBasedModel\n",
    "\n",
    "from time import time"
   ]
  },
  {
   "cell_type": "code",
   "execution_count": 21,
   "metadata": {},
   "outputs": [],
   "source": [
    "kappa = 5.0\n",
    "K = 10\n",
    "r = 0.1\n",
    "eta = 0.9\n",
    "theta = 0.16\n",
    "rho = 0.1\n",
    "T = 0.25\n",
    "v0 = 0.25**2\n",
    "# S0 = 10\n",
    "M = 10_000"
   ]
  },
  {
   "cell_type": "code",
   "execution_count": 22,
   "metadata": {},
   "outputs": [],
   "source": [
    "simulator = PathSimulator()\n",
    "pricer = SimulationBasedModel()"
   ]
  },
  {
   "cell_type": "code",
   "execution_count": 30,
   "metadata": {},
   "outputs": [
    {
     "data": {
      "text/plain": [
       "[3, 1, 2, 3]"
      ]
     },
     "execution_count": 30,
     "metadata": {},
     "output_type": "execute_result"
    }
   ],
   "source": [
    "[3] + [1,2,3]"
   ]
  },
  {
   "cell_type": "code",
   "execution_count": 23,
   "metadata": {},
   "outputs": [],
   "source": [
    "reference_values = {\n",
    "    8: 2,\n",
    "    9: 1.1076,\n",
    "    10: 0.52,\n",
    "    11: 0.2137,\n",
    "    12: 0.0820\n",
    "\n",
    "}"
   ]
  },
  {
   "cell_type": "code",
   "execution_count": 28,
   "metadata": {},
   "outputs": [
    {
     "name": "stdout",
     "output_type": "stream",
     "text": [
      "\n",
      "-------------------- N = 100 -------------------------\n",
      "\n",
      "S0 = 8. Reference value: 2. Counting approach: 2.0 (5.95 s). Probabilities approach: 2.0814 (4.47 s)\n",
      "S0 = 9. Reference value: 1.1076. Counting approach: 1.0911 (5.95 s). Probabilities approach: 1.171 (4.48 s)\n",
      "S0 = 10. Reference value: 0.52. Counting approach: 0.5066 (6.0 s). Probabilities approach: 0.5377 (4.45 s)\n",
      "S0 = 11. Reference value: 0.2137. Counting approach: 0.2006 (5.94 s). Probabilities approach: 0.203 (4.48 s)\n",
      "S0 = 12. Reference value: 0.082. Counting approach: 0.0712 (5.92 s). Probabilities approach: 0.0611 (4.41 s)\n",
      "\n",
      "-------------------- N = 200 -------------------------\n",
      "\n",
      "S0 = 8. Reference value: 2. Counting approach: 2.0 (24.0 s). Probabilities approach: 2.062 (20.27 s)\n",
      "S0 = 9. Reference value: 1.1076. Counting approach: 1.1 (24.55 s). Probabilities approach: 1.1531 (19.88 s)\n",
      "S0 = 10. Reference value: 0.52. Counting approach: 0.5144 (24.5 s). Probabilities approach: 0.5368 (19.86 s)\n",
      "S0 = 11. Reference value: 0.2137. Counting approach: 0.2091 (24.76 s). Probabilities approach: 0.2105 (19.78 s)\n",
      "S0 = 12. Reference value: 0.082. Counting approach: 0.078 (24.77 s). Probabilities approach: 0.0669 (20.1 s)\n",
      "\n",
      "-------------------- N = 500 -------------------------\n",
      "\n",
      "S0 = 8. Reference value: 2. Counting approach: 2.0 (150.23 s). Probabilities approach: 2.0421 (119.12 s)\n",
      "S0 = 9. Reference value: 1.1076. Counting approach: 1.1049 (147.76 s). Probabilities approach: 1.1366 (114.42 s)\n",
      "S0 = 10. Reference value: 0.52. Counting approach: 0.5211 (150.49 s). Probabilities approach: 0.5377 (116.93 s)\n",
      "S0 = 11. Reference value: 0.2137. Counting approach: 0.215 (164.02 s). Probabilities approach: 0.2158 (141.47 s)\n",
      "S0 = 12. Reference value: 0.082. Counting approach: 0.0829 (152.31 s). Probabilities approach: 0.0736 (124.17 s)\n"
     ]
    }
   ],
   "source": [
    "for n in [100, 200, 500]:\n",
    "\n",
    "    print(f\"\\n-------------------- N = {n} -------------------------\\n\")\n",
    "\n",
    "    for S0 in [8,9,10,11,12]:\n",
    "\n",
    "        St, vt = simulator.heston(\n",
    "            T,\n",
    "            n*1000,\n",
    "            n,\n",
    "            rho,\n",
    "            kappa,\n",
    "            theta,\n",
    "            v0,\n",
    "            S0,\n",
    "            eta,\n",
    "            r\n",
    "        )\n",
    "\n",
    "        g = lambda x, k : np.maximum(k-x, 0) # put option\n",
    "\n",
    "        t0 = time()\n",
    "        option_price_counting = pricer.compute_option_prices_counting(St, vt, g, n, T, K, r, v0)\n",
    "        t1 = time()\n",
    "        option_price_probabilities = pricer.compute_option_prices_probabilities(St, vt, g, n, T, K, r,v0)\n",
    "        t2 = time()\n",
    "\n",
    "        print(f\"S0 = {S0}. Reference value: {reference_values[S0]}. Counting approach: {round(option_price_counting, 4)} ({round(t1-t0, 2)} s). Probabilities approach: {round(option_price_probabilities, 4)} ({round(t2-t1, 2)} s)\")"
   ]
  },
  {
   "cell_type": "code",
   "execution_count": null,
   "metadata": {},
   "outputs": [],
   "source": []
  }
 ],
 "metadata": {
  "kernelspec": {
   "display_name": "base",
   "language": "python",
   "name": "python3"
  },
  "language_info": {
   "codemirror_mode": {
    "name": "ipython",
    "version": 3
   },
   "file_extension": ".py",
   "mimetype": "text/x-python",
   "name": "python",
   "nbconvert_exporter": "python",
   "pygments_lexer": "ipython3",
   "version": "3.10.9"
  }
 },
 "nbformat": 4,
 "nbformat_minor": 2
}
