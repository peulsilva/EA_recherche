{
 "cells": [
  {
   "cell_type": "markdown",
   "metadata": {},
   "source": [
    "## Obtaining results"
   ]
  },
  {
   "cell_type": "code",
   "execution_count": 1,
   "metadata": {},
   "outputs": [],
   "source": [
    "%load_ext autoreload\n",
    "%autoreload 2"
   ]
  },
  {
   "cell_type": "code",
   "execution_count": 2,
   "metadata": {},
   "outputs": [],
   "source": [
    "import os \n",
    "while 'notebooks' in os.getcwd():\n",
    "    os.chdir('..')\n",
    "\n",
    "import numpy as np\n",
    "from src.simulations import PathSimulator\n",
    "from src.gpu.simulation_based_tree import SimulationBasedModel\n",
    "import torch\n",
    "from time import time"
   ]
  },
  {
   "cell_type": "code",
   "execution_count": 3,
   "metadata": {},
   "outputs": [],
   "source": [
    "kappa = 5.0\n",
    "K = 10\n",
    "r = 0.1\n",
    "eta = 0.9\n",
    "theta = 0.16\n",
    "rho = 0.1\n",
    "T = 0.25\n",
    "v0 = 0.25**2\n",
    "# S0 = 10\n",
    "M = 10_000"
   ]
  },
  {
   "cell_type": "code",
   "execution_count": 4,
   "metadata": {},
   "outputs": [],
   "source": [
    "simulator = PathSimulator()"
   ]
  },
  {
   "cell_type": "code",
   "execution_count": null,
   "metadata": {},
   "outputs": [],
   "source": []
  },
  {
   "cell_type": "code",
   "execution_count": 5,
   "metadata": {},
   "outputs": [
    {
     "data": {
      "text/plain": [
       "[3, 1, 2, 3]"
      ]
     },
     "execution_count": 5,
     "metadata": {},
     "output_type": "execute_result"
    }
   ],
   "source": [
    "[3] + [1,2,3]"
   ]
  },
  {
   "cell_type": "code",
   "execution_count": 6,
   "metadata": {},
   "outputs": [],
   "source": [
    "reference_values = {\n",
    "    8: 2,\n",
    "    9: 1.1076,\n",
    "    10: 0.52,\n",
    "    11: 0.2137,\n",
    "    12: 0.0820\n",
    "\n",
    "}"
   ]
  },
  {
   "cell_type": "code",
   "execution_count": 14,
   "metadata": {},
   "outputs": [
    {
     "name": "stdout",
     "output_type": "stream",
     "text": [
      "\n",
      "-------------------- N = 100 -------------------------\n",
      "\n"
     ]
    },
    {
     "name": "stderr",
     "output_type": "stream",
     "text": [
      "/users/eleves-a/2022/pedro.silva/Desktop/EA_recherche/src/gpu/simulation_based_tree.py:181: UserWarning: To copy construct from a tensor, it is recommended to use sourceTensor.clone().detach() or sourceTensor.clone().detach().requires_grad_(True), rather than torch.tensor(sourceTensor).\n",
      "  cdf_values = self.torch_norm_cdf(x)\n"
     ]
    },
    {
     "name": "stdout",
     "output_type": "stream",
     "text": [
      "S0 = 8. Reference value: 2. Counting approach: 2.0 . Probabilities approach: 2.0876898765563965. (0.32 s) \n",
      "S0 = 9. Reference value: 1.1076. Counting approach: 1.0827258825302124 . Probabilities approach: 1.1691699028015137. (0.3 s) \n",
      "S0 = 10. Reference value: 0.52. Counting approach: 0.4963997006416321 . Probabilities approach: 0.5206362009048462. (0.3 s) \n",
      "S0 = 11. Reference value: 0.2137. Counting approach: 0.19463574886322021 . Probabilities approach: 0.18817515671253204. (0.3 s) \n",
      "S0 = 12. Reference value: 0.082. Counting approach: 0.07085494697093964 . Probabilities approach: 0.05675114691257477. (0.3 s) \n",
      "\n",
      "-------------------- N = 200 -------------------------\n",
      "\n",
      "S0 = 8. Reference value: 2. Counting approach: 2.0 . Probabilities approach: 2.066905975341797. (0.73 s) \n",
      "S0 = 9. Reference value: 1.1076. Counting approach: 1.093392014503479 . Probabilities approach: 1.1524524688720703. (0.73 s) \n",
      "S0 = 10. Reference value: 0.52. Counting approach: 0.5120230913162231 . Probabilities approach: 0.5199038982391357. (0.73 s) \n",
      "S0 = 11. Reference value: 0.2137. Counting approach: 0.20697511732578278 . Probabilities approach: 0.1955292522907257. (0.73 s) \n",
      "S0 = 12. Reference value: 0.082. Counting approach: 0.07686249911785126 . Probabilities approach: 0.06255751848220825. (0.72 s) \n",
      "\n",
      "-------------------- N = 500 -------------------------\n",
      "\n",
      "S0 = 8. Reference value: 2. Counting approach: 2.0 . Probabilities approach: 2.0465524196624756. (3.12 s) \n",
      "S0 = 9. Reference value: 1.1076. Counting approach: 1.1033822298049927 . Probabilities approach: 1.1367411613464355. (3.1 s) \n",
      "S0 = 10. Reference value: 0.52. Counting approach: 0.5209818482398987 . Probabilities approach: 0.5201624631881714. (3.09 s) \n",
      "S0 = 11. Reference value: 0.2137. Counting approach: 0.21489232778549194 . Probabilities approach: 0.20182755589485168. (3.1 s) \n",
      "S0 = 12. Reference value: 0.082. Counting approach: 0.08376231789588928 . Probabilities approach: 0.06903864443302155. (3.1 s) \n"
     ]
    }
   ],
   "source": [
    "for n in [100, 200, 500]:\n",
    "    m = 1000*n\n",
    "\n",
    "    print(f\"\\n-------------------- N = {n} -------------------------\\n\")\n",
    "\n",
    "    for S0 in [8,9,10,11,12]:\n",
    "\n",
    "        dt = T/n\n",
    "\n",
    "        t0 = time()\n",
    "        # Mean and covariance for the multivariate normal distribution\n",
    "        mean = torch.zeros(2, device='cuda')\n",
    "        cov = torch.tensor([[1, rho], [rho, 1]], device='cuda')\n",
    "\n",
    "        # Multivariate normal distribution\n",
    "        mvn = torch.distributions.MultivariateNormal(mean, cov)\n",
    "\n",
    "        # Generate samples (size: m x n x 2)\n",
    "        brownian = mvn.sample((m, n)) * torch.sqrt(torch.tensor(dt, device='cuda'))\n",
    "\n",
    "        # Extract dW and dW_hat\n",
    "        dW = brownian[:, :, 0]\n",
    "        dW_hat = brownian[:, :, 1]\n",
    "\n",
    "        St, vt = simulator.heston_gpu(\n",
    "            T,\n",
    "            m,\n",
    "            n,\n",
    "            rho,\n",
    "            kappa,\n",
    "            theta,\n",
    "            v0,\n",
    "            S0,\n",
    "            eta,\n",
    "            r\n",
    "        )\n",
    "        pricer = SimulationBasedModel(n, K, r, T/n, option_type='american')\n",
    "\n",
    "        option_price_proba = pricer.compute_option_prices_probabilities(\n",
    "            St,\n",
    "            vt,\n",
    "            lambda x,k: torch.maximum(k-x,torch.tensor(0)),\n",
    "            n,\n",
    "            T,\n",
    "            K,\n",
    "            r,\n",
    "            v0\n",
    "        )\n",
    "        option_price = pricer.compute_option_prices_counting(St,  lambda x,k: torch.maximum(k-x,torch.tensor(0)),)\n",
    "\n",
    "        t1 = time()\n",
    "\n",
    "        print(f\"S0 = {S0}. Reference value: {reference_values[S0]}. Counting approach: {option_price.item()} . Probabilities approach: {option_price_proba}. ({round(t1-t0, 2)} s) \")"
   ]
  },
  {
   "cell_type": "code",
   "execution_count": 28,
   "metadata": {},
   "outputs": [
    {
     "name": "stdout",
     "output_type": "stream",
     "text": [
      "\n",
      "-------------------- N = 100 -------------------------\n",
      "\n",
      "S0 = 8. Reference value: 2. Counting approach: 2.0 (5.95 s). Probabilities approach: 2.0814 (4.47 s)\n",
      "S0 = 9. Reference value: 1.1076. Counting approach: 1.0911 (5.95 s). Probabilities approach: 1.171 (4.48 s)\n",
      "S0 = 10. Reference value: 0.52. Counting approach: 0.5066 (6.0 s). Probabilities approach: 0.5377 (4.45 s)\n",
      "S0 = 11. Reference value: 0.2137. Counting approach: 0.2006 (5.94 s). Probabilities approach: 0.203 (4.48 s)\n",
      "S0 = 12. Reference value: 0.082. Counting approach: 0.0712 (5.92 s). Probabilities approach: 0.0611 (4.41 s)\n",
      "\n",
      "-------------------- N = 200 -------------------------\n",
      "\n",
      "S0 = 8. Reference value: 2. Counting approach: 2.0 (24.0 s). Probabilities approach: 2.062 (20.27 s)\n",
      "S0 = 9. Reference value: 1.1076. Counting approach: 1.1 (24.55 s). Probabilities approach: 1.1531 (19.88 s)\n",
      "S0 = 10. Reference value: 0.52. Counting approach: 0.5144 (24.5 s). Probabilities approach: 0.5368 (19.86 s)\n",
      "S0 = 11. Reference value: 0.2137. Counting approach: 0.2091 (24.76 s). Probabilities approach: 0.2105 (19.78 s)\n",
      "S0 = 12. Reference value: 0.082. Counting approach: 0.078 (24.77 s). Probabilities approach: 0.0669 (20.1 s)\n",
      "\n",
      "-------------------- N = 500 -------------------------\n",
      "\n",
      "S0 = 8. Reference value: 2. Counting approach: 2.0 (150.23 s). Probabilities approach: 2.0421 (119.12 s)\n",
      "S0 = 9. Reference value: 1.1076. Counting approach: 1.1049 (147.76 s). Probabilities approach: 1.1366 (114.42 s)\n",
      "S0 = 10. Reference value: 0.52. Counting approach: 0.5211 (150.49 s). Probabilities approach: 0.5377 (116.93 s)\n",
      "S0 = 11. Reference value: 0.2137. Counting approach: 0.215 (164.02 s). Probabilities approach: 0.2158 (141.47 s)\n",
      "S0 = 12. Reference value: 0.082. Counting approach: 0.0829 (152.31 s). Probabilities approach: 0.0736 (124.17 s)\n"
     ]
    }
   ],
   "source": [
    "for n in [100, 200, 500]:\n",
    "\n",
    "    print(f\"\\n-------------------- N = {n} -------------------------\\n\")\n",
    "\n",
    "    for S0 in [8,9,10,11,12]:\n",
    "\n",
    "        St, vt = simulator.heston(\n",
    "            T,\n",
    "            n*1000,\n",
    "            n,\n",
    "            rho,\n",
    "            kappa,\n",
    "            theta,\n",
    "            v0,\n",
    "            S0,\n",
    "            eta,\n",
    "            r\n",
    "        )\n",
    "\n",
    "        g = lambda x, k : np.maximum(k-x, 0) # put option\n",
    "\n",
    "        t0 = time()\n",
    "        option_price_counting = pricer.compute_option_prices_counting(St, vt, g, n, T, K, r, v0)\n",
    "        t1 = time()\n",
    "        option_price_probabilities = pricer.compute_option_prices_probabilities(St, vt, g, n, T, K, r,v0)\n",
    "        t2 = time()\n",
    "\n",
    "        print(f\"S0 = {S0}. Reference value: {reference_values[S0]}. Counting approach: {round(option_price_counting, 4)} ({round(t1-t0, 2)} s). Probabilities approach: {round(option_price_probabilities, 4)} ({round(t2-t1, 2)} s)\")"
   ]
  },
  {
   "cell_type": "code",
   "execution_count": null,
   "metadata": {},
   "outputs": [],
   "source": []
  }
 ],
 "metadata": {
  "kernelspec": {
   "display_name": "Python 3",
   "language": "python",
   "name": "python3"
  },
  "language_info": {
   "codemirror_mode": {
    "name": "ipython",
    "version": 3
   },
   "file_extension": ".py",
   "mimetype": "text/x-python",
   "name": "python",
   "nbconvert_exporter": "python",
   "pygments_lexer": "ipython3",
   "version": "3.11.9"
  }
 },
 "nbformat": 4,
 "nbformat_minor": 2
}
