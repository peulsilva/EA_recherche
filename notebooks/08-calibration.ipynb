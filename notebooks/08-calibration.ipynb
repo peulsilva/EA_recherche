{
 "cells": [
  {
   "cell_type": "code",
   "execution_count": 1,
   "metadata": {},
   "outputs": [],
   "source": [
    "%load_ext autoreload\n",
    "%autoreload 2"
   ]
  },
  {
   "cell_type": "code",
   "execution_count": 64,
   "metadata": {},
   "outputs": [],
   "source": [
    "import os\n",
    "\n",
    "while 'notebooks' in os.getcwd():\n",
    "    os.chdir('..')\n",
    "\n",
    "import yfinance as yf\n",
    "import pandas as pd\n",
    "import numpy as np\n",
    "from src.gpu.simulation_based_tree import SimulationBasedModel\n",
    "from src.simulations import PathSimulator\n",
    "import torch\n",
    "from datetime import datetime\n",
    "from tqdm import tqdm\n",
    "from IPython.display import clear_output\n",
    "import seaborn as sns"
   ]
  },
  {
   "cell_type": "code",
   "execution_count": null,
   "metadata": {},
   "outputs": [],
   "source": []
  },
  {
   "cell_type": "markdown",
   "metadata": {},
   "source": [
    "## Calibration of models\n"
   ]
  },
  {
   "cell_type": "code",
   "execution_count": 3,
   "metadata": {},
   "outputs": [],
   "source": [
    "\n",
    "\n",
    "def fetch_options(ticker : str):\n",
    "    # Initialize the AAPL stock object\n",
    "    aapl = yf.Ticker(ticker)\n",
    "    \n",
    "    # Fetch available option expiration dates\n",
    "    expiration_dates = aapl.options\n",
    "\n",
    "    # Initialize a DataFrame to store all options data\n",
    "    all_options = pd.DataFrame()\n",
    "\n",
    "    # Loop over each expiration date and fetch the option chain\n",
    "    for date in expiration_dates:\n",
    "        # Fetch options for this expiration date\n",
    "        options_chain = aapl.option_chain(date)\n",
    "        \n",
    "        # Combine calls and puts into one DataFrame with an expiration date column\n",
    "        calls = options_chain.calls\n",
    "        calls['type'] = 'call'\n",
    "        calls['expirationDate'] = pd.to_datetime(date)\n",
    "\n",
    "        puts = options_chain.puts\n",
    "        puts['type'] = 'put'\n",
    "        puts['expirationDate'] = pd.to_datetime(date)\n",
    "\n",
    "        # Concatenate calls and puts\n",
    "        all_options = pd.concat([all_options, calls, puts])\n",
    "\n",
    "    return all_options.reset_index(drop=True)\n"
   ]
  },
  {
   "cell_type": "code",
   "execution_count": 4,
   "metadata": {},
   "outputs": [
    {
     "data": {
      "text/html": [
       "<div>\n",
       "<style scoped>\n",
       "    .dataframe tbody tr th:only-of-type {\n",
       "        vertical-align: middle;\n",
       "    }\n",
       "\n",
       "    .dataframe tbody tr th {\n",
       "        vertical-align: top;\n",
       "    }\n",
       "\n",
       "    .dataframe thead th {\n",
       "        text-align: right;\n",
       "    }\n",
       "</style>\n",
       "<table border=\"1\" class=\"dataframe\">\n",
       "  <thead>\n",
       "    <tr style=\"text-align: right;\">\n",
       "      <th></th>\n",
       "      <th>contractSymbol</th>\n",
       "      <th>lastTradeDate</th>\n",
       "      <th>strike</th>\n",
       "      <th>lastPrice</th>\n",
       "      <th>bid</th>\n",
       "      <th>ask</th>\n",
       "      <th>change</th>\n",
       "      <th>percentChange</th>\n",
       "      <th>volume</th>\n",
       "      <th>openInterest</th>\n",
       "      <th>impliedVolatility</th>\n",
       "      <th>inTheMoney</th>\n",
       "      <th>contractSize</th>\n",
       "      <th>currency</th>\n",
       "      <th>type</th>\n",
       "      <th>expirationDate</th>\n",
       "      <th>lastTradeDay</th>\n",
       "      <th>option_price</th>\n",
       "      <th>T</th>\n",
       "    </tr>\n",
       "  </thead>\n",
       "  <tbody>\n",
       "    <tr>\n",
       "      <th>0</th>\n",
       "      <td>AAPL241115C00005000</td>\n",
       "      <td>2024-11-11 14:52:20+00:00</td>\n",
       "      <td>5.0</td>\n",
       "      <td>218.34</td>\n",
       "      <td>219.45</td>\n",
       "      <td>220.05</td>\n",
       "      <td>0.0</td>\n",
       "      <td>0.0</td>\n",
       "      <td>1.0</td>\n",
       "      <td>1</td>\n",
       "      <td>19.234379</td>\n",
       "      <td>True</td>\n",
       "      <td>REGULAR</td>\n",
       "      <td>USD</td>\n",
       "      <td>call</td>\n",
       "      <td>2024-11-15</td>\n",
       "      <td>2024-11-11</td>\n",
       "      <td>219.750</td>\n",
       "      <td>0.011905</td>\n",
       "    </tr>\n",
       "    <tr>\n",
       "      <th>1</th>\n",
       "      <td>AAPL241115C00010000</td>\n",
       "      <td>2024-11-07 20:50:00+00:00</td>\n",
       "      <td>10.0</td>\n",
       "      <td>217.50</td>\n",
       "      <td>213.70</td>\n",
       "      <td>214.35</td>\n",
       "      <td>0.0</td>\n",
       "      <td>0.0</td>\n",
       "      <td>1.0</td>\n",
       "      <td>0</td>\n",
       "      <td>12.140627</td>\n",
       "      <td>True</td>\n",
       "      <td>REGULAR</td>\n",
       "      <td>USD</td>\n",
       "      <td>call</td>\n",
       "      <td>2024-11-15</td>\n",
       "      <td>2024-11-07</td>\n",
       "      <td>214.025</td>\n",
       "      <td>0.011905</td>\n",
       "    </tr>\n",
       "    <tr>\n",
       "      <th>4</th>\n",
       "      <td>AAPL241115C00025000</td>\n",
       "      <td>2024-11-07 20:55:00+00:00</td>\n",
       "      <td>25.0</td>\n",
       "      <td>202.10</td>\n",
       "      <td>199.35</td>\n",
       "      <td>199.95</td>\n",
       "      <td>0.0</td>\n",
       "      <td>0.0</td>\n",
       "      <td>2.0</td>\n",
       "      <td>0</td>\n",
       "      <td>9.863285</td>\n",
       "      <td>True</td>\n",
       "      <td>REGULAR</td>\n",
       "      <td>USD</td>\n",
       "      <td>call</td>\n",
       "      <td>2024-11-15</td>\n",
       "      <td>2024-11-07</td>\n",
       "      <td>199.650</td>\n",
       "      <td>0.011905</td>\n",
       "    </tr>\n",
       "    <tr>\n",
       "      <th>7</th>\n",
       "      <td>AAPL241115C00050000</td>\n",
       "      <td>2024-11-07 20:06:51+00:00</td>\n",
       "      <td>50.0</td>\n",
       "      <td>177.63</td>\n",
       "      <td>174.40</td>\n",
       "      <td>174.35</td>\n",
       "      <td>0.0</td>\n",
       "      <td>0.0</td>\n",
       "      <td>1.0</td>\n",
       "      <td>0</td>\n",
       "      <td>5.843753</td>\n",
       "      <td>True</td>\n",
       "      <td>REGULAR</td>\n",
       "      <td>USD</td>\n",
       "      <td>call</td>\n",
       "      <td>2024-11-15</td>\n",
       "      <td>2024-11-07</td>\n",
       "      <td>174.375</td>\n",
       "      <td>0.011905</td>\n",
       "    </tr>\n",
       "    <tr>\n",
       "      <th>8</th>\n",
       "      <td>AAPL241115C00055000</td>\n",
       "      <td>2024-03-08 14:30:05+00:00</td>\n",
       "      <td>55.0</td>\n",
       "      <td>115.75</td>\n",
       "      <td>114.90</td>\n",
       "      <td>117.45</td>\n",
       "      <td>0.0</td>\n",
       "      <td>0.0</td>\n",
       "      <td>2.0</td>\n",
       "      <td>2</td>\n",
       "      <td>0.000010</td>\n",
       "      <td>True</td>\n",
       "      <td>REGULAR</td>\n",
       "      <td>USD</td>\n",
       "      <td>call</td>\n",
       "      <td>2024-11-15</td>\n",
       "      <td>2024-03-08</td>\n",
       "      <td>116.175</td>\n",
       "      <td>0.011905</td>\n",
       "    </tr>\n",
       "  </tbody>\n",
       "</table>\n",
       "</div>"
      ],
      "text/plain": [
       "        contractSymbol             lastTradeDate  strike  lastPrice     bid  \\\n",
       "0  AAPL241115C00005000 2024-11-11 14:52:20+00:00     5.0     218.34  219.45   \n",
       "1  AAPL241115C00010000 2024-11-07 20:50:00+00:00    10.0     217.50  213.70   \n",
       "4  AAPL241115C00025000 2024-11-07 20:55:00+00:00    25.0     202.10  199.35   \n",
       "7  AAPL241115C00050000 2024-11-07 20:06:51+00:00    50.0     177.63  174.40   \n",
       "8  AAPL241115C00055000 2024-03-08 14:30:05+00:00    55.0     115.75  114.90   \n",
       "\n",
       "      ask  change  percentChange  volume  openInterest  impliedVolatility  \\\n",
       "0  220.05     0.0            0.0     1.0             1          19.234379   \n",
       "1  214.35     0.0            0.0     1.0             0          12.140627   \n",
       "4  199.95     0.0            0.0     2.0             0           9.863285   \n",
       "7  174.35     0.0            0.0     1.0             0           5.843753   \n",
       "8  117.45     0.0            0.0     2.0             2           0.000010   \n",
       "\n",
       "   inTheMoney contractSize currency  type expirationDate lastTradeDay  \\\n",
       "0        True      REGULAR      USD  call     2024-11-15   2024-11-11   \n",
       "1        True      REGULAR      USD  call     2024-11-15   2024-11-07   \n",
       "4        True      REGULAR      USD  call     2024-11-15   2024-11-07   \n",
       "7        True      REGULAR      USD  call     2024-11-15   2024-11-07   \n",
       "8        True      REGULAR      USD  call     2024-11-15   2024-03-08   \n",
       "\n",
       "   option_price         T  \n",
       "0       219.750  0.011905  \n",
       "1       214.025  0.011905  \n",
       "4       199.650  0.011905  \n",
       "7       174.375  0.011905  \n",
       "8       116.175  0.011905  "
      ]
     },
     "execution_count": 4,
     "metadata": {},
     "output_type": "execute_result"
    }
   ],
   "source": [
    "aapl_options = fetch_options('AAPL')\n",
    "aapl_options['lastTradeDay'] = pd.to_datetime(aapl_options.lastTradeDate.dt.date)\n",
    "aapl_options = aapl_options[~aapl_options.volume.isna()]\n",
    "aapl_options['option_price'] = (aapl_options['bid']+aapl_options['ask'])/2\n",
    "aapl_options['T'] = aapl_options.apply(lambda x: (len(pd.bdate_range(datetime.today().date(), x['expirationDate'])) - 1)/252, axis = 1)\n",
    "aapl_options.head()"
   ]
  },
  {
   "cell_type": "code",
   "execution_count": 5,
   "metadata": {},
   "outputs": [],
   "source": [
    "start_date = aapl_options['lastTradeDay'].min()\n",
    "end_date = aapl_options['lastTradeDay'].max()"
   ]
  },
  {
   "cell_type": "code",
   "execution_count": 6,
   "metadata": {},
   "outputs": [
    {
     "data": {
      "text/plain": [
       "'2024-03-08'"
      ]
     },
     "execution_count": 6,
     "metadata": {},
     "output_type": "execute_result"
    }
   ],
   "source": [
    "str(start_date.date())"
   ]
  },
  {
   "cell_type": "code",
   "execution_count": 7,
   "metadata": {},
   "outputs": [
    {
     "name": "stderr",
     "output_type": "stream",
     "text": [
      "[*********************100%***********************]  1 of 1 completed\n"
     ]
    }
   ],
   "source": [
    "aapl_prices = yf.download(\"AAPL\", start = str(start_date.date()), end = str(end_date.date()))[['Close']].droplevel(level = 0, axis = 1)"
   ]
  },
  {
   "cell_type": "code",
   "execution_count": 8,
   "metadata": {},
   "outputs": [
    {
     "data": {
      "text/plain": [
       "Ticker\n",
       "AAPL    224.229996\n",
       "Name: 2024-11-11 00:00:00+00:00, dtype: float64"
      ]
     },
     "execution_count": 8,
     "metadata": {},
     "output_type": "execute_result"
    }
   ],
   "source": [
    "aapl_prices.iloc[-1]"
   ]
  },
  {
   "cell_type": "code",
   "execution_count": 9,
   "metadata": {},
   "outputs": [],
   "source": [
    "aapl_prices.index = aapl_prices.index.tz_localize(None)"
   ]
  },
  {
   "cell_type": "code",
   "execution_count": 10,
   "metadata": {},
   "outputs": [],
   "source": [
    "aapl_options = aapl_options.sort_values(\"lastTradeDate\")"
   ]
  },
  {
   "cell_type": "code",
   "execution_count": 11,
   "metadata": {},
   "outputs": [],
   "source": [
    "aapl_options['underlying_price'] = aapl_prices.iloc[-1].item()"
   ]
  },
  {
   "cell_type": "code",
   "execution_count": 12,
   "metadata": {},
   "outputs": [
    {
     "data": {
      "text/html": [
       "<div>\n",
       "<style scoped>\n",
       "    .dataframe tbody tr th:only-of-type {\n",
       "        vertical-align: middle;\n",
       "    }\n",
       "\n",
       "    .dataframe tbody tr th {\n",
       "        vertical-align: top;\n",
       "    }\n",
       "\n",
       "    .dataframe thead th {\n",
       "        text-align: right;\n",
       "    }\n",
       "</style>\n",
       "<table border=\"1\" class=\"dataframe\">\n",
       "  <thead>\n",
       "    <tr style=\"text-align: right;\">\n",
       "      <th></th>\n",
       "      <th>underlying_price</th>\n",
       "    </tr>\n",
       "  </thead>\n",
       "  <tbody>\n",
       "    <tr>\n",
       "      <th>8</th>\n",
       "      <td>224.229996</td>\n",
       "    </tr>\n",
       "    <tr>\n",
       "      <th>1115</th>\n",
       "      <td>224.229996</td>\n",
       "    </tr>\n",
       "    <tr>\n",
       "      <th>649</th>\n",
       "      <td>224.229996</td>\n",
       "    </tr>\n",
       "    <tr>\n",
       "      <th>436</th>\n",
       "      <td>224.229996</td>\n",
       "    </tr>\n",
       "    <tr>\n",
       "      <th>1428</th>\n",
       "      <td>224.229996</td>\n",
       "    </tr>\n",
       "    <tr>\n",
       "      <th>...</th>\n",
       "      <td>...</td>\n",
       "    </tr>\n",
       "    <tr>\n",
       "      <th>183</th>\n",
       "      <td>224.229996</td>\n",
       "    </tr>\n",
       "    <tr>\n",
       "      <th>298</th>\n",
       "      <td>224.229996</td>\n",
       "    </tr>\n",
       "    <tr>\n",
       "      <th>615</th>\n",
       "      <td>224.229996</td>\n",
       "    </tr>\n",
       "    <tr>\n",
       "      <th>180</th>\n",
       "      <td>224.229996</td>\n",
       "    </tr>\n",
       "    <tr>\n",
       "      <th>45</th>\n",
       "      <td>224.229996</td>\n",
       "    </tr>\n",
       "  </tbody>\n",
       "</table>\n",
       "<p>1802 rows × 1 columns</p>\n",
       "</div>"
      ],
      "text/plain": [
       "      underlying_price\n",
       "8           224.229996\n",
       "1115        224.229996\n",
       "649         224.229996\n",
       "436         224.229996\n",
       "1428        224.229996\n",
       "...                ...\n",
       "183         224.229996\n",
       "298         224.229996\n",
       "615         224.229996\n",
       "180         224.229996\n",
       "45          224.229996\n",
       "\n",
       "[1802 rows x 1 columns]"
      ]
     },
     "execution_count": 12,
     "metadata": {},
     "output_type": "execute_result"
    }
   ],
   "source": [
    "aapl_options[['underlying_price']]"
   ]
  },
  {
   "cell_type": "markdown",
   "metadata": {},
   "source": [
    "## Train-test split"
   ]
  },
  {
   "cell_type": "code",
   "execution_count": 45,
   "metadata": {},
   "outputs": [],
   "source": [
    "L = len(aapl_options)\n",
    "train_df = aapl_options\n",
    "test_df = aapl_options.iloc[(L*7)//10:]"
   ]
  },
  {
   "cell_type": "code",
   "execution_count": 46,
   "metadata": {},
   "outputs": [],
   "source": [
    "t = train_df['T'].unique()[0]"
   ]
  },
  {
   "cell_type": "code",
   "execution_count": 47,
   "metadata": {},
   "outputs": [],
   "source": [
    "Ks = train_df.query(f\"T == {t} & type == 'call'\").strike\n",
    "px = train_df.query(f\"T == {t} & type == 'call'\").option_price\n"
   ]
  },
  {
   "cell_type": "code",
   "execution_count": 48,
   "metadata": {},
   "outputs": [],
   "source": [
    "df = pd.concat([Ks, px], axis = 1).sort_values(\"strike\")\n",
    "Ks, px = df['strike'], df['option_price']"
   ]
  },
  {
   "cell_type": "code",
   "execution_count": 49,
   "metadata": {},
   "outputs": [
    {
     "data": {
      "text/plain": [
       "[<matplotlib.lines.Line2D at 0x7f3acd2da750>]"
      ]
     },
     "execution_count": 49,
     "metadata": {},
     "output_type": "execute_result"
    },
    {
     "data": {
      "image/png": "[encoded data removed]",
      "text/plain": [
       "<Figure size 640x480 with 1 Axes>"
      ]
     },
     "metadata": {},
     "output_type": "display_data"
    }
   ],
   "source": [
    "import matplotlib.pyplot as plt\n",
    "\n",
    "plt.plot(Ks, px)"
   ]
  },
  {
   "cell_type": "markdown",
   "metadata": {},
   "source": [
    "## Calibrating"
   ]
  },
  {
   "cell_type": "code",
   "execution_count": 50,
   "metadata": {},
   "outputs": [],
   "source": [
    "simulator = PathSimulator()\n"
   ]
  },
  {
   "cell_type": "code",
   "execution_count": 51,
   "metadata": {},
   "outputs": [],
   "source": [
    "# kappa = 5.0\n",
    "# K = 10\n",
    "# r = 0.0\n",
    "# eta = 0.9\n",
    "# theta = 0.04\n",
    "# rho = 0.1\n",
    "# T = 0.25\n",
    "# v0 = theta\n",
    "# S0 = 10\n",
    "# N = 200\n",
    "# M = 10_000\n",
    "# dt = T/N"
   ]
  },
  {
   "cell_type": "code",
   "execution_count": null,
   "metadata": {},
   "outputs": [
    {
     "name": "stdout",
     "output_type": "stream",
     "text": [
      "[tensor(-0.5000, grad_fn=<TanhBackward0>), tensor(5.0067, grad_fn=<SoftplusBackward0>), tensor(0.7763, grad_fn=<AddBackward0>), tensor(0.7249, grad_fn=<AddBackward0>), tensor(1.2412, grad_fn=<MinimumBackward0>), tensor(0.7444, grad_fn=<SoftplusBackward0>)]\n"
     ]
    },
    {
     "name": "stderr",
     "output_type": "stream",
     "text": [
      " 88%|████████▊ | 56/64 [00:04<00:00, 13.77it/s]"
     ]
    }
   ],
   "source": [
    "# initial_params = torch.Tensor([0.1,0.1, 0.01, 0.1, 0.1, 0.1],).to('cuda') #rho, kappa, theta, v0, s0, eta, r\n",
    "# initial_params.requires_grad = True\n",
    "# optimizer = torch.optim.Adam([initial_params], lr=0.01)\n",
    "device = 'cuda'\n",
    "import gc\n",
    "\n",
    "import torch.nn.functional as F\n",
    "\n",
    "rho = torch.nn.Parameter(torch.atanh(torch.tensor(-0.5)))    # Correlation rho in [-1, 1]\n",
    "kappa = torch.nn.Parameter(torch.tensor(5.0))    # Mean reversion rate, ensure positivity\n",
    "theta = torch.nn.Parameter(torch.tensor(0.16))              # Long-run variance, positive\n",
    "v0 = torch.nn.Parameter(torch.tensor(0.25**2))                 # Initial variance, set equal to theta\n",
    "eta = torch.nn.Parameter(torch.tensor(0.9))                 # Volatility of volatility, positive\n",
    "r = torch.nn.Parameter(torch.tensor(0.1))      \n",
    "\n",
    "params = [rho, kappa, theta, v0, eta, r]\n",
    "optimizer = torch.optim.Adam(params, lr=1e-2)\n",
    "\n",
    "def transformed_params(rho, kappa, theta, v0, eta, r):\n",
    "    # [-1, 1] range: scaled tanh (less extreme than directly using torch.tanh)\n",
    "    rho_ = torch.tanh(rho)   # Slightly scaled to avoid extremes\n",
    "\n",
    "    # [0, 1] range: sigmoid with slight scaling\n",
    "    kappa_ = F.softplus(kappa)  # Ensures values are in (0.01, 0.99)\n",
    "    r_ = F.softplus(r)         # Same for r to avoid edges\n",
    "    \n",
    "    # Positive range: softplus (less extreme than exp)\n",
    "    theta_ = F.softplus(theta) + 1e-6            # Ensures positive values, avoids zero\n",
    "    v0_ = F.softplus(v0) + 1e-6                  # Ensures positive values, avoids zero\n",
    "    eta_ = F.softplus(eta) + 1e-6                # Ensures positive values, avoids zero\n",
    "\n",
    "    # Feller condition for eta: eta <= sqrt(2 * kappa * theta)\n",
    "    eta_ = torch.min(eta_, torch.sqrt(2 * kappa_ * theta_))\n",
    "\n",
    "    return rho_, kappa_, theta_, v0_, eta_, r_\n",
    "\n",
    "# Apply transformations in the forward pass\n",
    "\n",
    "n = 50\n",
    "m = 500*n\n",
    "\n",
    "losses = []\n",
    "\n",
    "# Optimization loop\n",
    "num_iterations = 100\n",
    "batch_size = 64\n",
    "memo = {}\n",
    "\n",
    "best_params = None\n",
    "best_loss = float('inf')\n",
    "\n",
    "# with torch.autograd.set_detect_anomaly(True):\n",
    "for iteration in range(num_iterations):\n",
    "\n",
    "    optimizer.zero_grad()\n",
    "\n",
    "    rho_, kappa_, theta_, v0_, eta_, r_ = transformed_params(rho, kappa, theta, v0, eta, r)\n",
    "    print([rho_, kappa_, theta_, v0_, eta_, r_])\n",
    "\n",
    "\n",
    "    stochastic_df = train_df.query(\"type == 'put'\").sample(batch_size, replace=False)\n",
    "    model_prices = torch.zeros(len(stochastic_df), device=device)\n",
    "    market_prices = torch.zeros(len(stochastic_df), device=device)\n",
    "    Ks = torch.zeros(len(stochastic_df), device=device)\n",
    "    # rho, kappa, theta, v0, eta, r = initial_params\n",
    "    # batch_loss = (rho**2 + kappa**2 + theta**2 + v0**2 + eta**2 + r**2) \n",
    "\n",
    "\n",
    "    for i, (idx, row) in tqdm(enumerate(stochastic_df.iterrows()), total = len(stochastic_df)):\n",
    "        T = row['T']\n",
    "        option_type = row['type']\n",
    "        market_price = row['option_price']\n",
    "        S0 = row['underlying_price']\n",
    "        K = row['strike']\n",
    "\n",
    "\n",
    "        if option_type == 'call':\n",
    "            g= lambda x, k: torch.maximum(x-k, torch.tensor(0))\n",
    "\n",
    "        elif option_type == 'put':\n",
    "        \n",
    "            g= lambda x, k: torch.maximum(k-x, torch.tensor(0))\n",
    "\n",
    "        pricer = SimulationBasedModel(n,row['strike'], r_, T/n, option_type='american', model = 'heston', device=device)\n",
    "        St, _ = simulator.heston_gpu(T,m,n,rho_, kappa_, theta_, v0_, S0,eta_, r_, device = device)\n",
    "\n",
    "        \n",
    "        # option_price = pricer.compute_option_prices_counting(St, g)\n",
    "\n",
    "\n",
    "        M, n = St.shape\n",
    "        dt = T/n\n",
    "        memo = {}\n",
    "\n",
    "\n",
    "        for t in range(n - 1, -1, -1):\n",
    "\n",
    "            # Compute quantile bins for current and next time steps\n",
    "            bins_current, prices_t = pricer.compute_quantiles(St[:, t], t+3)\n",
    "\n",
    "            if t == n-1:\n",
    "                memo[t] = (g(prices_t[1:-1], K))\n",
    "                continue\n",
    "\n",
    "            bins_next, prices_t_next = pricer.compute_quantiles(St[:, t + 1], t+4)\n",
    "            \n",
    "            probabilities = pricer.compute_transition_matrix(\n",
    "                bins_current, \n",
    "                bins_next,\n",
    "            )\n",
    "\n",
    "\n",
    "            continuation_values = probabilities @ (memo[t+1] * torch.exp(-r_* dt))\n",
    "\n",
    "            stopping_values_all = g(prices_t[1:-1], K)\n",
    "            \n",
    "            # del bins_current\n",
    "            # del prices_t\n",
    "            # del bins_next\n",
    "            # torch.cuda.empty_cache()\n",
    "            # gc.collect()\n",
    "\n",
    "            memo[t] = torch.maximum(continuation_values, stopping_values_all)\n",
    "\n",
    "            if memo[t].isnan().any():\n",
    "                break\n",
    "\n",
    "\n",
    "        # Option price at time 0\n",
    "        option_price = memo[0][0]\n",
    "\n",
    "        if option_price.isnan():\n",
    "            break\n",
    "\n",
    "        model_prices[i] = option_price\n",
    "        market_prices[i] = torch.tensor(market_price, device= device)\n",
    "        Ks[i] = K\n",
    "\n",
    "    \n",
    "\n",
    "\n",
    "    batch_loss = (abs(model_prices  - market_prices)**2).sum()\n",
    "    # batch_loss.requires_grad =True\n",
    "    batch_loss = batch_loss / batch_size\n",
    "\n",
    "    if batch_loss < best_loss:\n",
    "        best_loss = batch_loss\n",
    "        best_parameters = params\n",
    "\n",
    "    losses.append(batch_loss.item())\n",
    "    # break\n",
    "    batch_loss.backward()\n",
    "    optimizer.step()\n",
    "\n",
    "\n",
    "\n",
    "    clear_output()\n",
    "    print(f\"Iteration {iteration + 1}/{num_iterations}, Loss: {batch_loss.item():.6f}\")\n",
    "    print([rho_, kappa_, theta_, v0_, eta_, r_])\n",
    "    # print(rho.grad)"
   ]
  },
  {
   "cell_type": "code",
   "execution_count": null,
   "metadata": {},
   "outputs": [
    {
     "data": {
      "image/png": "[encoded data removed]",
      "text/plain": [
       "<Figure size 640x480 with 1 Axes>"
      ]
     },
     "metadata": {},
     "output_type": "display_data"
    }
   ],
   "source": [
    "plt.plot(losses)\n",
    "plt.title(\"Calibration\")\n",
    "plt.ylabel(\"Loss function (MSE)\")\n",
    "plt.xlabel(\"Epoch\")\n",
    "plt.grid()"
   ]
  },
  {
   "cell_type": "code",
   "execution_count": 75,
   "metadata": {},
   "outputs": [
    {
     "data": {
      "text/plain": [
       "[Parameter containing:\n",
       " tensor(nan, requires_grad=True),\n",
       " Parameter containing:\n",
       " tensor(nan, requires_grad=True),\n",
       " Parameter containing:\n",
       " tensor(nan, requires_grad=True),\n",
       " Parameter containing:\n",
       " tensor(nan, requires_grad=True),\n",
       " Parameter containing:\n",
       " tensor(nan, requires_grad=True),\n",
       " Parameter containing:\n",
       " tensor(0.4785, requires_grad=True)]"
      ]
     },
     "execution_count": 75,
     "metadata": {},
     "output_type": "execute_result"
    }
   ],
   "source": [
    "best_parameters"
   ]
  },
  {
   "cell_type": "code",
   "execution_count": 76,
   "metadata": {},
   "outputs": [
    {
     "name": "stderr",
     "output_type": "stream",
     "text": [
      "  0%|          | 0/845 [00:00<?, ?it/s]"
     ]
    },
    {
     "name": "stderr",
     "output_type": "stream",
     "text": [
      "  0%|          | 0/845 [00:00<?, ?it/s]\n"
     ]
    },
    {
     "ename": "ValueError",
     "evalue": "NaN detected at timestep 199 in St or vt",
     "output_type": "error",
     "traceback": [
      "\u001b[0;31m---------------------------------------------------------------------------\u001b[0m",
      "\u001b[0;31mValueError\u001b[0m                                Traceback (most recent call last)",
      "Cell \u001b[0;32mIn[76], line 30\u001b[0m\n\u001b[1;32m     27\u001b[0m     g\u001b[38;5;241m=\u001b[39m \u001b[38;5;28;01mlambda\u001b[39;00m x, k: torch\u001b[38;5;241m.\u001b[39mmaximum(k\u001b[38;5;241m-\u001b[39mx, torch\u001b[38;5;241m.\u001b[39mtensor(\u001b[38;5;241m0\u001b[39m))\n\u001b[1;32m     29\u001b[0m pricer \u001b[38;5;241m=\u001b[39m SimulationBasedModel(n,row[\u001b[38;5;124m'\u001b[39m\u001b[38;5;124mstrike\u001b[39m\u001b[38;5;124m'\u001b[39m], r_, T\u001b[38;5;241m/\u001b[39mn, option_type\u001b[38;5;241m=\u001b[39m\u001b[38;5;124m'\u001b[39m\u001b[38;5;124mamerican\u001b[39m\u001b[38;5;124m'\u001b[39m, model \u001b[38;5;241m=\u001b[39m \u001b[38;5;124m'\u001b[39m\u001b[38;5;124mheston\u001b[39m\u001b[38;5;124m'\u001b[39m, device\u001b[38;5;241m=\u001b[39mdevice)\n\u001b[0;32m---> 30\u001b[0m St, _ \u001b[38;5;241m=\u001b[39m \u001b[43msimulator\u001b[49m\u001b[38;5;241;43m.\u001b[39;49m\u001b[43mheston_gpu\u001b[49m\u001b[43m(\u001b[49m\u001b[43mT\u001b[49m\u001b[43m,\u001b[49m\u001b[43mm\u001b[49m\u001b[43m,\u001b[49m\u001b[43mn\u001b[49m\u001b[43m,\u001b[49m\u001b[43mrho_\u001b[49m\u001b[43m,\u001b[49m\u001b[43m \u001b[49m\u001b[43mkappa_\u001b[49m\u001b[43m,\u001b[49m\u001b[43m \u001b[49m\u001b[43mtheta_\u001b[49m\u001b[43m,\u001b[49m\u001b[43m \u001b[49m\u001b[43mv0_\u001b[49m\u001b[43m,\u001b[49m\u001b[43m \u001b[49m\u001b[43mS0\u001b[49m\u001b[43m,\u001b[49m\u001b[43meta_\u001b[49m\u001b[43m,\u001b[49m\u001b[43m \u001b[49m\u001b[43mr_\u001b[49m\u001b[43m,\u001b[49m\u001b[43m \u001b[49m\u001b[43mdevice\u001b[49m\u001b[43m \u001b[49m\u001b[38;5;241;43m=\u001b[39;49m\u001b[43m \u001b[49m\u001b[43mdevice\u001b[49m\u001b[43m)\u001b[49m\n\u001b[1;32m     33\u001b[0m \u001b[38;5;66;03m# option_price = pricer.compute_option_prices_counting(St, g)\u001b[39;00m\n\u001b[1;32m     36\u001b[0m M, n \u001b[38;5;241m=\u001b[39m St\u001b[38;5;241m.\u001b[39mshape\n",
      "File \u001b[0;32m~/Desktop/EA_recherche/src/simulations.py:118\u001b[0m, in \u001b[0;36mPathSimulator.heston_gpu\u001b[0;34m(cls, T, m, n, rho, kappa, theta, v0, S0, eta, r, device)\u001b[0m\n\u001b[1;32m    115\u001b[0m sqrt_one_minus_rho_squared \u001b[38;5;241m=\u001b[39m torch\u001b[38;5;241m.\u001b[39msqrt(\u001b[38;5;241m1\u001b[39m \u001b[38;5;241m-\u001b[39m rho_clamped \u001b[38;5;241m*\u001b[39m\u001b[38;5;241m*\u001b[39m \u001b[38;5;241m2\u001b[39m)\n\u001b[1;32m    116\u001b[0m dW_hat \u001b[38;5;241m=\u001b[39m (rho_clamped \u001b[38;5;241m*\u001b[39m z1 \u001b[38;5;241m+\u001b[39m sqrt_one_minus_rho_squared \u001b[38;5;241m*\u001b[39m z2) \u001b[38;5;241m*\u001b[39m sqrt_dt\n\u001b[0;32m--> 118\u001b[0m St, vt \u001b[38;5;241m=\u001b[39m \u001b[38;5;28;43mcls\u001b[39;49m\u001b[38;5;241;43m.\u001b[39;49m\u001b[43m__generate_trajectories_heston_gpu\u001b[49m\u001b[43m(\u001b[49m\n\u001b[1;32m    119\u001b[0m \u001b[43m    \u001b[49m\u001b[43mdW\u001b[49m\u001b[43m,\u001b[49m\n\u001b[1;32m    120\u001b[0m \u001b[43m    \u001b[49m\u001b[43mdW_hat\u001b[49m\u001b[43m,\u001b[49m\n\u001b[1;32m    121\u001b[0m \u001b[43m    \u001b[49m\u001b[43mkappa\u001b[49m\u001b[43m,\u001b[49m\n\u001b[1;32m    122\u001b[0m \u001b[43m    \u001b[49m\u001b[43mtheta\u001b[49m\u001b[43m,\u001b[49m\n\u001b[1;32m    123\u001b[0m \u001b[43m    \u001b[49m\u001b[43mv0\u001b[49m\u001b[43m,\u001b[49m\n\u001b[1;32m    124\u001b[0m \u001b[43m    \u001b[49m\u001b[43mS0\u001b[49m\u001b[43m,\u001b[49m\n\u001b[1;32m    125\u001b[0m \u001b[43m    \u001b[49m\u001b[43meta\u001b[49m\u001b[43m,\u001b[49m\n\u001b[1;32m    126\u001b[0m \u001b[43m    \u001b[49m\u001b[43mdt\u001b[49m\u001b[43m,\u001b[49m\n\u001b[1;32m    127\u001b[0m \u001b[43m    \u001b[49m\u001b[43mr\u001b[49m\u001b[43m,\u001b[49m\n\u001b[1;32m    128\u001b[0m \u001b[43m    \u001b[49m\u001b[43mn\u001b[49m\n\u001b[1;32m    129\u001b[0m \u001b[43m\u001b[49m\u001b[43m)\u001b[49m\n\u001b[1;32m    131\u001b[0m \u001b[38;5;28;01mreturn\u001b[39;00m St, vt\n",
      "File \u001b[0;32m~/Desktop/EA_recherche/src/simulations.py:237\u001b[0m, in \u001b[0;36mPathSimulator.__generate_trajectories_heston_gpu\u001b[0;34m(self, dW, dW_hat, kappa, theta, v0, S0, eta, dt, r, n)\u001b[0m\n\u001b[1;32m    234\u001b[0m     St[:, t] \u001b[38;5;241m=\u001b[39m S_t_1\u001b[38;5;241m*\u001b[39m torch\u001b[38;5;241m.\u001b[39mexp((r \u001b[38;5;241m-\u001b[39m \u001b[38;5;241m0.5\u001b[39m \u001b[38;5;241m*\u001b[39m v_t_1) \u001b[38;5;241m*\u001b[39m dt \u001b[38;5;241m+\u001b[39m sqrt_v_prev \u001b[38;5;241m*\u001b[39m dW[:, t \u001b[38;5;241m-\u001b[39m \u001b[38;5;241m1\u001b[39m])\n\u001b[1;32m    236\u001b[0m \u001b[38;5;28;01mif\u001b[39;00m torch\u001b[38;5;241m.\u001b[39misnan(St)\u001b[38;5;241m.\u001b[39many() \u001b[38;5;129;01mor\u001b[39;00m torch\u001b[38;5;241m.\u001b[39misnan(vt)\u001b[38;5;241m.\u001b[39many():\n\u001b[0;32m--> 237\u001b[0m     \u001b[38;5;28;01mraise\u001b[39;00m \u001b[38;5;167;01mValueError\u001b[39;00m(\u001b[38;5;124mf\u001b[39m\u001b[38;5;124m\"\u001b[39m\u001b[38;5;124mNaN detected at timestep \u001b[39m\u001b[38;5;132;01m{\u001b[39;00mt\u001b[38;5;132;01m}\u001b[39;00m\u001b[38;5;124m in St or vt\u001b[39m\u001b[38;5;124m\"\u001b[39m)\n\u001b[1;32m    238\u001b[0m \u001b[38;5;28;01mreturn\u001b[39;00m St, vt\n",
      "\u001b[0;31mValueError\u001b[0m: NaN detected at timestep 199 in St or vt"
     ]
    }
   ],
   "source": [
    "rho, kappa, theta, v0, eta, r = best_parameters\n",
    "rho_, kappa_, theta_, v0_, eta_, r_ = transformed_params(rho, kappa, theta, v0, eta, r)\n",
    "\n",
    "n = 200\n",
    "m = 500*n\n",
    "\n",
    "df = train_df.query(\"type == 'put'\")\n",
    "\n",
    "model_prices = torch.zeros(len(df), device=device)\n",
    "market_prices = torch.zeros(len(df), device=device)\n",
    "Ks = torch.zeros(len(df), device=device)\n",
    "\n",
    "with torch.no_grad():\n",
    "    for i, (idx, row) in tqdm(enumerate(df.iterrows()), total = len(df)):\n",
    "        T = row['T']\n",
    "        option_type = row['type']\n",
    "        market_price = row['option_price']\n",
    "        S0 = row['underlying_price']\n",
    "        K = row['strike']\n",
    "\n",
    "\n",
    "        if option_type == 'call':\n",
    "            g= lambda x, k: torch.maximum(x-k, torch.tensor(0))\n",
    "\n",
    "        elif option_type == 'put':\n",
    "        \n",
    "            g= lambda x, k: torch.maximum(k-x, torch.tensor(0))\n",
    "\n",
    "        pricer = SimulationBasedModel(n,row['strike'], r_, T/n, option_type='american', model = 'heston', device=device)\n",
    "        St, _ = simulator.heston_gpu(T,m,n,rho_, kappa_, theta_, v0_, S0,eta_, r_, device = device)\n",
    "\n",
    "        \n",
    "        # option_price = pricer.compute_option_prices_counting(St, g)\n",
    "\n",
    "\n",
    "        M, n = St.shape\n",
    "        dt = T/n\n",
    "        memo = {}\n",
    "\n",
    "\n",
    "        for t in range(n - 1, -1, -1):\n",
    "\n",
    "            # Compute quantile bins for current and next time steps\n",
    "            bins_current, prices_t = pricer.compute_quantiles(St[:, t], t+3)\n",
    "\n",
    "            if t == n-1:\n",
    "                memo[t] = (g(prices_t[1:-1], K))\n",
    "                continue\n",
    "\n",
    "            bins_next, prices_t_next = pricer.compute_quantiles(St[:, t + 1], t+4)\n",
    "            \n",
    "            probabilities = pricer.compute_transition_matrix(\n",
    "                bins_current, \n",
    "                bins_next,\n",
    "            )\n",
    "\n",
    "\n",
    "            continuation_values = probabilities @ (memo[t+1] * torch.exp(-r_* dt))\n",
    "\n",
    "            stopping_values_all = g(prices_t[1:-1], K)\n",
    "            \n",
    "            # del bins_current\n",
    "            # del prices_t\n",
    "            # del bins_next\n",
    "            # torch.cuda.empty_cache()\n",
    "            # gc.collect()\n",
    "\n",
    "            memo[t] = torch.maximum(continuation_values, stopping_values_all)\n",
    "\n",
    "            if memo[t].isnan().any():\n",
    "                break\n",
    "\n",
    "\n",
    "        # Option price at time 0\n",
    "        option_price = memo[0][0]\n",
    "\n",
    "        if option_price.isnan():\n",
    "            break\n",
    "\n",
    "        model_prices[i] = option_price\n",
    "        market_prices[i] = torch.tensor(market_price, device= device)\n",
    "        Ks[i] = K"
   ]
  },
  {
   "cell_type": "code",
   "execution_count": 63,
   "metadata": {},
   "outputs": [],
   "source": [
    "market_prices = market_prices.detach().cpu().numpy()\n",
    "model_prices = model_prices.detach().cpu().numpy()"
   ]
  },
  {
   "cell_type": "code",
   "execution_count": 70,
   "metadata": {},
   "outputs": [
    {
     "data": {
      "text/plain": [
       "<Axes: ylabel='Density'>"
      ]
     },
     "execution_count": 70,
     "metadata": {},
     "output_type": "execute_result"
    },
    {
     "data": {
      "image/png": "[encoded data removed]",
      "text/plain": [
       "<Figure size 640x480 with 1 Axes>"
      ]
     },
     "metadata": {},
     "output_type": "display_data"
    }
   ],
   "source": [
    "sns.kdeplot(abs(market_prices - model_prices))"
   ]
  },
  {
   "cell_type": "code",
   "execution_count": null,
   "metadata": {},
   "outputs": [],
   "source": []
  },
  {
   "cell_type": "code",
   "execution_count": 72,
   "metadata": {},
   "outputs": [
    {
     "data": {
      "text/plain": [
       "<matplotlib.legend.Legend at 0x7f39e36420d0>"
      ]
     },
     "execution_count": 72,
     "metadata": {},
     "output_type": "execute_result"
    },
    {
     "data": {
      "image/png": "[encoded data removed]",
      "text/plain": [
       "<Figure size 640x480 with 1 Axes>"
      ]
     },
     "metadata": {},
     "output_type": "display_data"
    }
   ],
   "source": [
    "\n",
    "plt.scatter(Ks.cpu(), market_prices, marker='.', label = 'True prices')\n",
    "plt.scatter(Ks.cpu(), model_prices, marker='.', label = \"Modeled prices\")\n",
    "\n",
    "plt.legend()"
   ]
  },
  {
   "cell_type": "code",
   "execution_count": null,
   "metadata": {},
   "outputs": [
    {
     "data": {
      "text/plain": [
       "array([ 5.95299988e+01,  4.99999989e-03,  1.67799988e+01, -3.59500122e+00,\n",
       "        6.12998962e+00,  8.20499420e+00, -2.70004272e-01, -1.82000732e+00,\n",
       "       -2.64500427e+00, -4.77000427e+00,  4.99999989e-03, -4.39500427e+00,\n",
       "        3.50499725e+00,  4.99999989e-03,  4.99999989e-03,  3.82999420e+00,\n",
       "        4.99999989e-03,  4.99999989e-03,  1.67999268e+00,  1.55499268e+00,\n",
       "        1.80499268e+00,  1.25000000e-01,  2.67999649e+00,  4.30499268e+00,\n",
       "       -4.19500732e+00, -4.09500122e+00,  4.99999989e-03, -3.64500427e+00,\n",
       "       -3.54500580e+00,  9.99999978e-03,  1.49999997e-02, -5.42000580e+00,\n",
       "       -3.39500427e+00, -3.42000580e+00,  1.99999996e-02,  1.99999996e-02,\n",
       "       -5.09500504e+00, -7.99500275e+00,  5.49999997e-02,  4.99999989e-03,\n",
       "        1.09999999e-01,  9.99999978e-03, -6.32000732e+00,  0.00000000e+00,\n",
       "        0.00000000e+00,  0.00000000e+00, -7.57700043e+01,  0.00000000e+00,\n",
       "        9.99999978e-03,  1.49999997e-02,  3.41688693e-02,  1.80499649e+00,\n",
       "        7.50000030e-02,  7.05770254e-02,  2.75499725e+00,  2.37998962e+00,\n",
       "        5.00000007e-02,  5.00000007e-02,  7.04994202e-01,  7.54997253e-01,\n",
       "       -1.26822010e-01,  3.45632076e-01, -3.09500504e+00, -4.84668672e-01,\n",
       "       -2.87574649e-01,  2.04994202e-01,  1.79996490e-01,  9.52412486e-02,\n",
       "        9.99999978e-03, -4.74352896e-01,  5.65268174e-02,  6.24454021e-03,\n",
       "        2.29737461e-02,  6.04547709e-02,  1.70307010e-01,  1.99999996e-02,\n",
       "        6.49999976e-02, -2.95005798e-01,  4.99999989e-03,  4.99999989e-03,\n",
       "        4.99999989e-03,  4.99999989e-03,  1.54994965e-01, -3.20007324e-01,\n",
       "        1.30499649e+00, -4.45007324e-01,  3.45509723e-02,  2.32399553e-02,\n",
       "        3.29994202e-01, -7.65141547e-02,  4.96585816e-02, -3.70002747e-01,\n",
       "       -1.45004272e-01,  2.04994202e-01, -3.61913323e-01, -8.02356601e-02,\n",
       "       -9.16185737e-01,  4.99999989e-03,  5.49926758e-02,  1.50000006e-01,\n",
       "       -1.94493771e-01,  4.99999989e-03, -5.91455758e-01,  4.99725342e-03,\n",
       "        1.49999997e-02, -3.20003510e-01,  7.29995728e-01,  4.99999989e-03,\n",
       "        4.99999989e-03,  4.99999989e-03,  7.97181726e-02,  5.49926758e-02,\n",
       "        4.99999989e-03, -4.70005035e-01,  4.99999989e-03,  2.99999993e-02,\n",
       "        2.81358302e-01,  7.04994202e-01,  2.04994202e-01, -3.56435403e-02,\n",
       "       -4.05211449e-01, -8.63878250e-01, -3.04547369e-01, -4.83819485e-01,\n",
       "       -5.20004272e-01, -3.65803808e-01, -3.95492911e-02,  6.49999976e-02,\n",
       "        5.49926758e-02,  4.01605606e+00,  5.49964905e-02, -4.95002747e-01,\n",
       "        1.79996490e-01,  4.99999989e-03,  4.99999989e-03,  4.99999989e-03,\n",
       "        4.99999989e-03, -2.19106331e-01, -6.34774029e-01, -3.20007324e-01,\n",
       "       -4.45003510e-01,  4.99999989e-03, -3.70002747e-01,  2.50000004e-02,\n",
       "        1.79996490e-01, -4.70001221e-01,  4.99999989e-03,  4.99999989e-03,\n",
       "       -3.09640020e-01, -5.70003510e-01,  2.50000004e-02, -1.10900953e-01,\n",
       "       -2.45002747e-01, -1.70005798e-01, -1.20002747e-01,  2.97305679e+00,\n",
       "        1.99999996e-02, -3.53116751e-01,  1.08823255e-01, -4.20003891e-01,\n",
       "       -3.76010835e-01,  2.63675034e-01,  1.99999996e-02,  4.99999989e-03,\n",
       "        1.14833713e-01,  1.54994965e-01,  1.99999996e-02,  1.49999997e-02,\n",
       "       -3.70002747e-01,  5.51563263e+00,  1.79996490e-01, -6.32864833e-01,\n",
       "       -5.20004272e-01, -1.65649414e-01,  2.04996109e-01,  4.99999989e-03,\n",
       "        4.99999989e-03,  1.90071076e-01,  8.64847749e-03,  3.50000001e-02,\n",
       "        5.00000007e-02,  9.17598754e-02,  5.99999987e-02,  9.00000036e-02,\n",
       "        1.04999997e-01,  5.16303629e-03, -1.41991138e-01,  9.99036282e-02,\n",
       "       -1.19979188e-01,  4.99999989e-03,  4.99999989e-03,  5.83570525e-02,\n",
       "        5.99999987e-02,  4.50000018e-02,  2.10499573e+00,  3.55499649e+00,\n",
       "        5.00000007e-02,  1.49999997e-02,  2.99999993e-02,  4.99999989e-03,\n",
       "       -7.45002747e-01, -3.45005035e-01, -4.92801249e-01,  3.50000001e-02,\n",
       "       -5.45005798e-01, -8.51985931e-01,  4.99999989e-03,  1.04999997e-01,\n",
       "        5.92657804e-01,  1.40000001e-01,  1.83528721e-01,  3.99185896e-01,\n",
       "        2.87206233e-01,  9.00000036e-02,  1.77069455e-01, -3.23347092e+00,\n",
       "        1.12018585e+00,  4.99999989e-03, -3.74577045e-01, -4.20005798e-01,\n",
       "        6.49999976e-02,  1.29997253e-01,  3.85554314e+00,  2.40949854e-01,\n",
       "        1.62066564e-01,  1.83450133e-01,  1.76847205e-01, -5.25341332e-02,\n",
       "        3.22501659e-01, -4.70005035e-01,  1.99999996e-02,  2.79650241e-01,\n",
       "       -5.13528228e-01,  1.72999573e+00,  4.92999649e+00,  4.99999989e-03,\n",
       "       -4.00147021e-01, -8.18362460e-03, -2.45002747e-01, -6.05995536e-01,\n",
       "       -1.27479303e+00,  7.00499725e+00,  2.39244938e-01,  1.02999496e+00,\n",
       "       -1.01577783e+00, -9.15959060e-01, -1.08730102e+00, -5.29327393e-02,\n",
       "        2.99999993e-02,  7.92288929e-02, -2.40081668e-01,  3.38187790e+00,\n",
       "       -1.03230405e+00, -6.70089185e-01, -1.16023517e+00, -3.17699432e-01,\n",
       "       -3.40490055e+00, -3.95004272e-01,  4.99602914e-01,  2.50000004e-02,\n",
       "       -2.20617056e-02,  1.04120761e-01, -1.47581100e-01,  4.38846827e-01,\n",
       "       -1.65955353e+00, -1.50327086e+00,  4.50000018e-02,  4.10973430e-02,\n",
       "        2.50000004e-02, -4.45003510e-01,  7.29605198e-01, -3.95812631e-01,\n",
       "       -8.12993407e-01,  4.99999989e-03,  3.04775834e-01,  3.70817780e-01,\n",
       "        6.13512039e-01, -8.20007324e-01,  2.04994202e-01, -1.04286110e+00,\n",
       "        1.79992676e-01, -3.20007324e-01, -3.07064652e-02,  5.49926758e-02,\n",
       "        2.47204781e-01, -2.57699895e+00, -8.26896906e-01,  3.99999991e-02,\n",
       "        1.56313801e+00,  2.25301623e-01, -5.18188477e-01, -2.94873238e-01,\n",
       "       -9.81337309e-01,  4.05165672e-01,  6.63661957e-02,  3.99999991e-02,\n",
       "        5.36534309e-01,  6.14780933e-02,  1.55499649e+00, -4.95002747e-01,\n",
       "        7.30838776e+00,  1.33051872e-02,  3.57589006e-01, -1.27735782e+00,\n",
       "        2.27205086e+00, -2.83424258e-01, -2.44081879e+00, -3.95004272e-01,\n",
       "       -1.27260125e+00,  2.85477448e+00, -6.77623272e-01,  1.15432358e+00,\n",
       "        2.86950874e+00,  2.33525872e-01, -2.06921387e+00, -8.74774933e-01,\n",
       "        2.52806127e-01,  2.50690877e-01, -2.00069427e-01,  2.27999496e+00,\n",
       "       -6.24513626e-02,  1.49999997e-02, -1.03041470e+00,  7.10315132e+00,\n",
       "        2.33565509e-01, -1.07377589e+00, -2.07978562e-02, -3.57994258e-01,\n",
       "        5.99375486e-01, -1.04565769e-01, -2.74121195e-01, -5.20004272e-01,\n",
       "        1.79992676e-01, -3.20007324e-01,  4.99999989e-03,  2.74693871e+00,\n",
       "        5.49999997e-02,  6.79394007e-02,  8.53464529e-02, -4.70005035e-01,\n",
       "       -1.33962929e-01,  3.07848990e-01,  3.37984443e-01,  9.96568501e-02,\n",
       "        7.99999982e-02,  5.74884713e-02, -1.46164536e-01, -2.72722661e-01,\n",
       "        4.60542440e-02, -2.17071342e+00,  4.99999989e-03, -6.72898865e+00,\n",
       "        3.50000001e-02, -7.57960796e-01,  1.60287879e-02,  7.49801636e-01,\n",
       "       -1.97331607e+00, -3.95004272e-01,  4.99999989e-03, -2.77560043e+00,\n",
       "       -1.65121853e+00, -7.38205671e-01, -3.34008545e-01, -5.08682013e-01,\n",
       "       -1.06410134e+00, -1.97226870e+00,  9.91647720e-01, -8.92768279e-02,\n",
       "       -2.82681227e-01,  9.99999978e-03,  1.49999997e-02,  1.99999996e-02,\n",
       "        1.16518450e+00,  4.99999989e-03,  9.92271006e-02,  4.99999989e-03,\n",
       "        1.97166260e-02, -2.95005798e-01,  1.65135431e+00, -3.49802399e+00,\n",
       "       -3.38092303e+00,  9.99999978e-03, -1.61789787e+00, -6.91923916e-01,\n",
       "        1.99999996e-02,  4.99999989e-03, -6.14795834e-02,  4.99999989e-03,\n",
       "       -1.34098077e+00,  2.05537733e-02,  1.00951433e+00, -1.11197400e+00,\n",
       "       -1.47853851e-01, -5.20004272e-01,  7.90151787e+00,  3.20584488e+00,\n",
       "       -1.61410666e+00,  1.49999997e-02, -7.54916191e-01, -2.38371477e-01,\n",
       "        4.99999989e-03, -2.62589693e+00, -2.20223188e+00, -1.87909484e+00,\n",
       "        7.18717575e-01, -3.56875086e+00,  4.99999989e-03,  4.99999989e-03,\n",
       "        1.49999997e-02, -2.66724777e+00,  8.30651283e-01, -2.73788452e-01,\n",
       "       -1.01633072e-01, -1.15650940e+00, -4.11636400e+00,  3.72762308e-02,\n",
       "        1.68493837e-02, -3.26538324e-01, -8.00973773e-01, -3.12517476e+00,\n",
       "       -5.01931787e-01,  4.99999989e-03, -6.20002747e-01,  1.86382484e+00,\n",
       "        2.12237930e+00, -1.76054740e+00,  2.57896900e-01, -1.51842579e-01,\n",
       "       -5.60869426e-02, -5.20004272e-01,  8.45670700e-01,  4.99999989e-03,\n",
       "       -1.78040504e+00, -1.21493816e+00,  4.94106054e-01, -2.90586591e+00,\n",
       "       -4.11236525e-01,  1.49999997e-02,  4.24238396e+00, -1.92707443e+00,\n",
       "       -3.30217981e+00,  4.99999989e-03,  9.99999978e-03, -1.29341316e+00,\n",
       "       -6.10973537e-01, -3.84119987e+00,  3.50000001e-02, -3.42833638e+00,\n",
       "        1.95388842e+00, -7.94517338e-01, -1.24904633e-01,  2.93155289e+00,\n",
       "        2.45097065e+00, -1.64884782e+00,  2.16310807e-02, -3.02316046e+00,\n",
       "       -1.52360606e+00, -2.61708289e-01, -9.49106216e-01, -8.94851685e-02,\n",
       "       -1.74558640e+00,  2.51935196e+00,  1.37337968e-02,  1.99999996e-02,\n",
       "        2.04996109e-01, -1.45004272e-01, -1.02121162e+00, -8.01525116e-02,\n",
       "       -3.81332397e-01,  1.39147186e+00, -1.49727988e+00, -1.72817945e+00,\n",
       "       -4.24346924e-02, -1.30572367e+00, -4.40266562e+00, -1.40835904e-03,\n",
       "       -2.47025937e-01, -2.66620755e+00, -7.09601879e-01, -9.66217756e-01,\n",
       "        5.16886520e+00, -5.46375513e-01, -7.91078061e-02, -3.96534777e+00,\n",
       "       -3.51210880e+00, -1.92775011e-01, -4.22610678e-02, -3.95004272e-01,\n",
       "       -1.21269190e+00, -4.86221504e+00, -5.44501495e+00, -2.02015615e+00,\n",
       "       -1.14961243e+00,  4.99999989e-03,  4.60473001e-02,  6.26714706e+00,\n",
       "       -2.26926994e+00, -1.45643640e+00,  1.79996490e-01, -5.70003510e-01,\n",
       "       -4.95002747e-01, -3.95004272e-01, -2.99799895e+00,  5.64206886e+00,\n",
       "       -2.67861938e+00, -2.81635374e-02,  2.55401284e-01, -4.85196859e-02,\n",
       "        1.22040558e+00, -3.39804769e-01,  2.99999993e-02, -2.89541054e+00,\n",
       "       -5.98752499e+00,  9.99999978e-03,  1.31074607e-01, -7.32975125e-01,\n",
       "       -4.83093834e+00, -3.08692932e-01,  1.55591011e-01, -3.84157372e+00,\n",
       "       -3.12680101e+00, -2.30628633e+00, -3.44462872e-01, -2.04227161e+00,\n",
       "       -5.19133377e+00, -2.29805648e-01,  2.55070877e+00, -7.09578693e-02,\n",
       "        3.50000001e-02,  3.02526951e-02, -1.07257283e+00, -1.89241573e-01,\n",
       "       -3.28519821e+00, -2.27707672e+00, -3.33854103e+00, -4.78323936e+00,\n",
       "       -4.03640270e+00,  2.41165161e-01, -1.74020767e+00, -4.74421883e+00,\n",
       "        1.48211861e+00,  4.89982605e+00,  7.59086609e-01, -6.70856476e-01,\n",
       "       -4.45344353e+00,  2.05001831e-01, -4.68683243e-01,  3.41335487e+00,\n",
       "        5.99999987e-02,  9.99999978e-03, -1.09471679e+00,  6.56980515e+00,\n",
       "       -4.48220015e-01, -3.81781411e+00, -3.82728577e+00, -5.22954702e-01,\n",
       "       -1.25154781e+00,  8.43263626e+00, -1.77744675e+00,  1.04765940e+00,\n",
       "        4.50183678e+00,  3.55499649e+00, -4.54471707e-01, -4.70005035e-01,\n",
       "       -1.89907455e+00,  3.97946052e-02,  7.72999573e+00, -5.73204613e+00,\n",
       "       -1.96319246e+00, -1.84781551e+00, -3.18654919e+00, -2.76329565e+00,\n",
       "       -1.36110842e-01, -4.35668516e+00, -4.74123001e-01,  5.00000007e-02,\n",
       "        5.00000007e-02, -9.59073484e-01, -2.35521388e+00,  2.08859488e-01,\n",
       "        7.50000030e-02,  1.49999997e-02, -5.74959087e+00, -2.74698830e+00,\n",
       "       -3.89646435e+00, -3.01824570e+00, -1.97606540e+00,  1.99999996e-02,\n",
       "       -3.56262207e+00, -2.45159239e-01, -2.17768764e+00,  2.14069653e+00,\n",
       "        7.54997253e-01, -1.64203453e+00, -3.17825556e-01, -2.65112805e+00,\n",
       "       -5.69905281e+00, -1.97168672e+00, -3.89810181e+00, -1.60355186e+00,\n",
       "       -4.59006691e+00, -1.50617981e+00, -4.25908756e+00,  1.53952074e+00,\n",
       "       -2.41017699e+00,  1.42338657e+00, -8.63804936e-01, -2.80368233e+00,\n",
       "        4.99999989e-03, -5.95236588e+00,  9.99999978e-03, -5.97004056e-01,\n",
       "       -6.45004272e-01, -6.44321632e+00, -3.74339819e+00,  3.33898544e+00,\n",
       "       -3.60527611e+00, -3.67558241e-01, -6.25322312e-02,  1.99999996e-02,\n",
       "       -4.13598156e+00, -3.54708815e+00, -4.34288645e+00, -4.40250111e+00,\n",
       "       -4.32586575e+00, -3.03115940e+00, -4.61539698e+00,  1.80000007e-01,\n",
       "        1.15000002e-01, -7.68476677e+00,  4.99999989e-03,  1.35000005e-01,\n",
       "       -3.46119022e+00, -4.34834480e+00, -6.35370255e+00, -3.46557617e-01,\n",
       "       -2.09566641e+00, -3.86876583e+00, -4.41761637e+00, -5.09758043e+00,\n",
       "       -1.21489689e-02, -6.20520496e+00, -5.43857670e+00, -3.40630627e+00,\n",
       "        1.00589371e+00, -5.74988663e-01, -3.49847794e-01,  7.25095749e-01,\n",
       "       -3.43266487e+00, -2.03853416e+00, -6.55129862e+00, -2.05843353e+00,\n",
       "       -5.51983738e+00, -1.53537607e+00, -1.60902095e+00, -6.99278307e+00,\n",
       "        3.63122177e+00, -1.59768820e-01, -4.30024862e-01, -7.53773510e-01,\n",
       "       -1.28282034e+00, -4.14724159e+00,  1.18549490e+00, -2.58381891e+00,\n",
       "       -6.88322449e+00, -1.47060561e+00, -5.23321247e+00, -3.46643448e+00,\n",
       "       -8.28006649e+00, -1.02580339e-01, -1.05162072e+00, -6.54822540e+00,\n",
       "        9.99999978e-03,  1.35499573e+00, -7.75085640e+00, -3.36517048e+00,\n",
       "       -1.65444203e-02,  3.99999991e-02,  4.07999420e+00, -2.51362038e+00,\n",
       "       -7.79435349e+00, -6.92475033e+00, -6.90379143e-01, -4.54305840e+00,\n",
       "       -1.73075259e-01, -2.15129089e+00, -3.31686592e+00, -3.56972456e+00,\n",
       "       -3.21833229e+00, -1.42428029e+00, -3.97127604e+00, -6.84548759e+00,\n",
       "       -7.35272455e+00, -1.71208334e+00, -3.72841096e+00, -6.46063805e+00,\n",
       "       -2.15585440e-01, -3.20007324e-01, -4.46704924e-02, -2.36186790e+00,\n",
       "       -8.69875908e-01, -2.07414436e+00, -6.49924338e-01, -5.04464054e+00,\n",
       "       -6.41305828e+00, -5.91837692e+00, -1.52280593e+00, -1.28842640e+00,\n",
       "       -6.47908497e+00, -6.63188982e+00, -9.29682076e-01, -7.26922989e-01,\n",
       "       -2.27382755e+00,  1.79996490e-01, -9.99458671e-01, -7.58550525e-01,\n",
       "       -8.54161263e-01, -5.39576626e+00, -1.55476952e+00, -1.83913374e+00,\n",
       "       -1.75321674e+00, -1.97682858e+00, -1.91161108e+00,  2.04996109e-01,\n",
       "       -1.08107492e-01, -1.43316078e+00, -4.59842682e+00, -5.27966690e+00,\n",
       "        4.12433624e-01, -4.95371628e+00, -2.93182755e+00, -5.68045282e+00,\n",
       "       -5.78645706e+00, -2.60729074e+00, -3.24669671e+00, -7.36358023e+00,\n",
       "       -6.46363914e-01, -6.81114912e+00, -1.52466536e+00, -7.05555820e+00,\n",
       "       -4.07714176e+00, -2.29272556e+00, -1.24646664e+00, -2.20476961e+00,\n",
       "       -5.28187609e+00, -6.98320389e+00, -2.73167062e+00,  1.00499725e+00,\n",
       "       -2.86948085e-01,  4.99999989e-03,  4.07999420e+00,  2.04159260e+00,\n",
       "       -1.87392426e+00,  1.99999996e-02, -4.77981758e+00, -6.10985994e+00,\n",
       "       -1.70003891e-01, -6.20002747e-01, -1.70005798e-01, -2.93376160e+00,\n",
       "       -8.18461514e+00, -1.23760056e+00, -3.94687843e+00, -3.09011292e+00,\n",
       "       -6.56253481e+00, -5.66620541e+00, -1.96298790e+00,  1.49999997e-02,\n",
       "        6.27285957e-01, -6.70729780e+00, -3.23008537e+00, -7.45199776e+00,\n",
       "       -1.73739433e-01, -5.50918198e+00, -4.58356524e+00, -3.87579012e+00,\n",
       "       -1.78379631e+00, -2.11381578e+00, -4.88335228e+00, -6.17634106e+00,\n",
       "       -1.37643027e+00, -7.18871498e+00, -7.00488091e+00, -1.35032487e+00,\n",
       "       -6.50465727e+00, -7.00101662e+00, -3.55587578e+00, -1.34867644e+00,\n",
       "       -6.14635706e+00, -2.58986378e+00, -2.44467831e+00, -4.70463848e+00,\n",
       "       -6.28113174e+00, -8.59185028e+00, -1.25941873e+00, -7.63039207e+00,\n",
       "       -4.86113930e+00,  1.93042946e+00, -5.33774376e+00, -7.19484472e+00,\n",
       "       -7.29238367e+00, -5.21748161e+00, -7.38725615e+00, -5.31839466e+00,\n",
       "       -5.10163593e+00, -3.82089901e+00, -4.34145641e+00, -2.69376945e+00,\n",
       "       -2.82086515e+00, -6.41642618e+00, -1.70466208e+00, -7.25845051e+00,\n",
       "       -5.62556362e+00, -2.64721370e+00, -5.57200968e-01, -6.43900108e+00,\n",
       "       -4.78886032e+00, -6.17228699e+00, -3.22546434e+00, -7.75569153e+00,\n",
       "       -7.59866190e+00, -7.64619350e+00, -8.13913536e+00, -5.54964685e+00,\n",
       "       -3.89463925e+00, -7.65114880e+00, -8.24983406e+00, -7.02190638e+00,\n",
       "       -6.98911619e+00, -1.52167320e+00, -1.66092491e+00, -1.87374723e+00,\n",
       "       -2.26142502e+00, -5.27050066e+00, -7.24881983e+00, -7.79275370e+00,\n",
       "       -4.10530853e+00, -3.89869785e+00, -6.44682598e+00, -5.32048225e+00,\n",
       "       -3.48864508e+00, -4.67848682e+00, -5.49372101e+00, -4.88426971e+00,\n",
       "       -1.85487366e+00], dtype=float32)"
      ]
     },
     "execution_count": 69,
     "metadata": {},
     "output_type": "execute_result"
    }
   ],
   "source": [
    "(market_prices - model_prices)**2"
   ]
  }
 ],
 "metadata": {
  "kernelspec": {
   "display_name": "Python 3",
   "language": "python",
   "name": "python3"
  },
  "language_info": {
   "codemirror_mode": {
    "name": "ipython",
    "version": 3
   },
   "file_extension": ".py",
   "mimetype": "text/x-python",
   "name": "python",
   "nbconvert_exporter": "python",
   "pygments_lexer": "ipython3",
   "version": "3.11.9"
  }
 },
 "nbformat": 4,
 "nbformat_minor": 2
}
